{
 "cells": [
  {
   "cell_type": "code",
   "execution_count": 2,
   "id": "f1ce650a",
   "metadata": {},
   "outputs": [],
   "source": [
    "from tensorflow.keras.models import load_model"
   ]
  },
  {
   "cell_type": "code",
   "execution_count": 3,
   "id": "33b1cdc7",
   "metadata": {},
   "outputs": [
    {
     "name": "stderr",
     "output_type": "stream",
     "text": [
      "WARNING:absl:Compiled the loaded model, but the compiled metrics have yet to be built. `model.compile_metrics` will be empty until you train or evaluate the model.\n"
     ]
    }
   ],
   "source": [
    "model = load_model('diabetes.h5')"
   ]
  },
  {
   "cell_type": "code",
   "execution_count": 4,
   "id": "01880ab9",
   "metadata": {},
   "outputs": [
    {
     "name": "stdout",
     "output_type": "stream",
     "text": [
      "\u001b[1m1/1\u001b[0m \u001b[32m━━━━━━━━━━━━━━━━━━━━\u001b[0m\u001b[37m\u001b[0m \u001b[1m0s\u001b[0m 176ms/step\n",
      "0.7748187\n",
      "0.86177015\n",
      "0.23033759\n",
      "0.25634798\n",
      "Şeker Hastası\n",
      "Şeker Hastası\n",
      "Şeker Hastası Değil\n",
      "Şeker Hastası Değil\n"
     ]
    }
   ],
   "source": [
    "import numpy as np\n",
    "\n",
    "predict_data = np.array([\n",
    "    [2, 148, 58, 37, 128, 25.4, 0.699, 24],\n",
    "    [7, 114, 67, 0, 0, 32.8, 0.258, 42],\n",
    "    [5, 99, 79, 27, 0, 29.0, 0.203, 32],\n",
    "    [0, 110, 85, 30, 0, 39.5, 0.855, 39]\n",
    "])\n",
    "\n",
    "predict_result = model.predict(predict_data)\n",
    "\n",
    "for i in range(len(predict_result)):\n",
    "    print(predict_result[i, 0])\n",
    "\n",
    "for i in range(len(predict_result)):\n",
    "    print(\"Şeker Hastası\" if predict_result[i, 0] > 0.5 else \"Şeker Hastası Değil\")\n"
   ]
  },
  {
   "cell_type": "markdown",
   "id": "b34cb87b",
   "metadata": {},
   "source": [
    "### Yapay Sinir Ağlarını Kullanarak Kestirim Yapmak İçin Aşamalar"
   ]
  },
  {
   "cell_type": "code",
   "execution_count": null,
   "id": "c48b565a",
   "metadata": {},
   "outputs": [],
   "source": []
  },
  {
   "cell_type": "code",
   "execution_count": null,
   "id": "8c09f7d4",
   "metadata": {},
   "outputs": [],
   "source": []
  },
  {
   "cell_type": "code",
   "execution_count": null,
   "id": "2839a0f2",
   "metadata": {},
   "outputs": [],
   "source": []
  }
 ],
 "metadata": {
  "kernelspec": {
   "display_name": "Python 3",
   "language": "python",
   "name": "python3"
  },
  "language_info": {
   "codemirror_mode": {
    "name": "ipython",
    "version": 3
   },
   "file_extension": ".py",
   "mimetype": "text/x-python",
   "name": "python",
   "nbconvert_exporter": "python",
   "pygments_lexer": "ipython3",
   "version": "3.11.9"
  }
 },
 "nbformat": 4,
 "nbformat_minor": 5
}
