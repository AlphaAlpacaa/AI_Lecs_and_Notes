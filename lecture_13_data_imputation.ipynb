{
 "cells": [
  {
   "cell_type": "code",
   "execution_count": 45,
   "metadata": {},
   "outputs": [
    {
     "name": "stdout",
     "output_type": "stream",
     "text": [
      "Toplam satır sayısı: 13580 Toplam Sütun sayısı: 21\n",
      "\n",
      "Eksik verilerin sütunlara göre dağılımı:\n",
      "Suburb              0\n",
      "Address             0\n",
      "Rooms               0\n",
      "Type                0\n",
      "Price               0\n",
      "Method              0\n",
      "SellerG             0\n",
      "Date                0\n",
      "Distance            0\n",
      "Postcode            0\n",
      "Bedroom2            0\n",
      "Bathroom            0\n",
      "Car                62\n",
      "Landsize            0\n",
      "BuildingArea     6450\n",
      "YearBuilt        5375\n",
      "CouncilArea      1369\n",
      "Lattitude           0\n",
      "Longtitude          0\n",
      "Regionname          0\n",
      "Propertycount       0\n",
      "dtype: int64\n",
      "\n"
     ]
    }
   ],
   "source": [
    "import pandas as pd\n",
    "\n",
    "df = pd.read_csv(\"datasets/melb_data.csv\")\n",
    "\n",
    "# print(df.head())\n",
    "print(\"Toplam satır sayısı:\", df.shape[0], \"Toplam Sütun sayısı:\", df.shape[1], end=\"\\n\\n\")\n",
    "\n",
    "missing_info = df.isna().sum()\n",
    "print(\"Eksik verilerin sütunlara göre dağılımı:\")\n",
    "print(missing_info, end=\"\\n\\n\")"
   ]
  },
  {
   "cell_type": "code",
   "execution_count": 46,
   "metadata": {},
   "outputs": [
    {
     "name": "stdout",
     "output_type": "stream",
     "text": [
      "Eksik veri içeren sütunlar:\n",
      "['Car', 'BuildingArea', 'YearBuilt', 'CouncilArea']\n",
      "\n",
      "Eksik veri oranı:\n",
      "0.04648292306613367\n",
      "\n",
      "Eksik veri içeren satır sayısı:\n",
      "7384\n",
      "\n",
      "Eksik veri içeren satır oranı:\n",
      "0.543740795287187\n",
      "\n"
     ]
    }
   ],
   "source": [
    "missing_columns = [name for name in df.columns if df[name].isna().any()]\n",
    "print(\"Eksik veri içeren sütunlar:\")\n",
    "print(missing_columns, end=\"\\n\\n\")\n",
    "\n",
    "missing_ratio = df.isna().sum().sum() / df.size\n",
    "print(\"Eksik veri oranı:\")\n",
    "print(missing_ratio, end=\"\\n\\n\")\n",
    "\n",
    "total_missing_rows = df.isna().any(axis=1).sum()\n",
    "print(\"Eksik veri içeren satır sayısı:\")\n",
    "print(total_missing_rows, end=\"\\n\\n\")\n",
    "\n",
    "total_missing_rows_ratio = total_missing_rows / df.shape[0]\n",
    "print(\"Eksik veri içeren satır oranı:\")\n",
    "print(total_missing_rows_ratio, end=\"\\n\\n\")"
   ]
  },
  {
   "cell_type": "code",
   "execution_count": 47,
   "metadata": {},
   "outputs": [],
   "source": [
    "import numpy as np\n",
    "\n",
    "impute_value = np.round(df[\"Car\"].mean())\n",
    "df[\"Car\"] = df[\"Car\"].fillna(impute_value)"
   ]
  },
  {
   "cell_type": "code",
   "execution_count": 48,
   "metadata": {},
   "outputs": [],
   "source": [
    "impute_value = np.round(df[\"BuildingArea\"].mean())\n",
    "impute_value\n",
    "df[\"BuildingArea\"] = df[\"BuildingArea\"].fillna(impute_value)"
   ]
  },
  {
   "cell_type": "code",
   "execution_count": 49,
   "metadata": {},
   "outputs": [],
   "source": [
    "impute_value = np.round(df[\"YearBuilt\"].mode())\n",
    "# impute_value = df[\"YearBuilt\"].mode()\n",
    "# print(impute_value)\n",
    "df[\"YearBuilt\"] = df[\"YearBuilt\"].fillna(impute_value[0])"
   ]
  },
  {
   "cell_type": "code",
   "execution_count": 50,
   "metadata": {},
   "outputs": [],
   "source": [
    "impute_value = df[\"CouncilArea\"].mode()\n",
    "df[\"CouncilArea\"] = df[\"CouncilArea\"].fillna(impute_value[0])"
   ]
  },
  {
   "cell_type": "code",
   "execution_count": 51,
   "metadata": {},
   "outputs": [],
   "source": [
    "df.to_csv(\"datasets/updated_file.csv\", index=False)"
   ]
  },
  {
   "cell_type": "code",
   "execution_count": null,
   "metadata": {},
   "outputs": [],
   "source": []
  }
 ],
 "metadata": {
  "kernelspec": {
   "display_name": "Python 3",
   "language": "python",
   "name": "python3"
  },
  "language_info": {
   "codemirror_mode": {
    "name": "ipython",
    "version": 3
   },
   "file_extension": ".py",
   "mimetype": "text/x-python",
   "name": "python",
   "nbconvert_exporter": "python",
   "pygments_lexer": "ipython3",
   "version": "3.12.4"
  }
 },
 "nbformat": 4,
 "nbformat_minor": 2
}
