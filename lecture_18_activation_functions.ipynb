{
 "cells": [
  {
   "cell_type": "markdown",
   "id": "93b7e20e",
   "metadata": {},
   "source": [
    "### Re-Producable yapmak için seed kullanmak lazım random_state\n",
    "- training_dataset_x, testing_dataset_x, training_dataset_y, testing_dataset_y = train_test_split(dataset_x, dataset_y, random_state=123)\n",
    "- model.fit(training_dataset_x, training_dataset_y, epochs=100,  batch_size=32, validation_split=0.2, shuffle=False)\n",
    "- model.add(Dense(64, activation=relu, kernel_initializer=GlorotUniform(seed=13579), name=\"Hidden-2\"))\n",
    "\n",
    "veya\n",
    "\n",
    "np.random.seed(123)\n",
    "\n",
    "gibi adımlarla eğitimdeki değerlerin korunması sağlanabilir."
   ]
  },
  {
   "cell_type": "code",
   "execution_count": 75,
   "id": "0a2f7e5f",
   "metadata": {},
   "outputs": [
    {
     "data": {
      "text/plain": [
       "(576, 192, 576, 192)"
      ]
     },
     "execution_count": 75,
     "metadata": {},
     "output_type": "execute_result"
    }
   ],
   "source": [
    "from tensorflow.keras import Sequential\n",
    "from tensorflow.keras.layers import Dense\n",
    "from tensorflow.keras.activations import relu \n",
    "import pandas as pd\n",
    "\n",
    "df = pd.read_csv('datasets/diabetes.csv')\n",
    "\n",
    "dataset_x = df.iloc[:, :-1].values\n",
    "dataset_y = df.iloc[:, -1].values\n",
    "from sklearn.model_selection import train_test_split\n",
    "\n",
    "training_dataset_x, testing_dataset_x, training_dataset_y, testing_dataset_y = train_test_split(dataset_x, dataset_y, random_state=12345)\n",
    "len(training_dataset_x), len(testing_dataset_x), len(training_dataset_y), len(testing_dataset_y)"
   ]
  },
  {
   "cell_type": "code",
   "execution_count": 76,
   "id": "232adcdc",
   "metadata": {},
   "outputs": [
    {
     "name": "stderr",
     "output_type": "stream",
     "text": [
      "c:\\Users\\ASUS\\AppData\\Local\\Programs\\Python\\Python311\\Lib\\site-packages\\keras\\src\\layers\\core\\dense.py:87: UserWarning: Do not pass an `input_shape`/`input_dim` argument to a layer. When using Sequential models, prefer using an `Input(shape)` object as the first layer in the model instead.\n",
      "  super().__init__(activity_regularizer=activity_regularizer, **kwargs)\n"
     ]
    },
    {
     "data": {
      "text/html": [
       "<pre style=\"white-space:pre;overflow-x:auto;line-height:normal;font-family:Menlo,'DejaVu Sans Mono',consolas,'Courier New',monospace\"><span style=\"font-weight: bold\">Model: \"Sample\"</span>\n",
       "</pre>\n"
      ],
      "text/plain": [
       "\u001b[1mModel: \"Sample\"\u001b[0m\n"
      ]
     },
     "metadata": {},
     "output_type": "display_data"
    },
    {
     "data": {
      "text/html": [
       "<pre style=\"white-space:pre;overflow-x:auto;line-height:normal;font-family:Menlo,'DejaVu Sans Mono',consolas,'Courier New',monospace\">┏━━━━━━━━━━━━━━━━━━━━━━━━━━━━━━━━━┳━━━━━━━━━━━━━━━━━━━━━━━━┳━━━━━━━━━━━━━━━┓\n",
       "┃<span style=\"font-weight: bold\"> Layer (type)                    </span>┃<span style=\"font-weight: bold\"> Output Shape           </span>┃<span style=\"font-weight: bold\">       Param # </span>┃\n",
       "┡━━━━━━━━━━━━━━━━━━━━━━━━━━━━━━━━━╇━━━━━━━━━━━━━━━━━━━━━━━━╇━━━━━━━━━━━━━━━┩\n",
       "│ Hidden-1 (<span style=\"color: #0087ff; text-decoration-color: #0087ff\">Dense</span>)                │ (<span style=\"color: #00d7ff; text-decoration-color: #00d7ff\">None</span>, <span style=\"color: #00af00; text-decoration-color: #00af00\">64</span>)             │           <span style=\"color: #00af00; text-decoration-color: #00af00\">576</span> │\n",
       "├─────────────────────────────────┼────────────────────────┼───────────────┤\n",
       "│ Hidden-2 (<span style=\"color: #0087ff; text-decoration-color: #0087ff\">Dense</span>)                │ (<span style=\"color: #00d7ff; text-decoration-color: #00d7ff\">None</span>, <span style=\"color: #00af00; text-decoration-color: #00af00\">32</span>)             │         <span style=\"color: #00af00; text-decoration-color: #00af00\">2,080</span> │\n",
       "├─────────────────────────────────┼────────────────────────┼───────────────┤\n",
       "│ Output (<span style=\"color: #0087ff; text-decoration-color: #0087ff\">Dense</span>)                  │ (<span style=\"color: #00d7ff; text-decoration-color: #00d7ff\">None</span>, <span style=\"color: #00af00; text-decoration-color: #00af00\">1</span>)              │            <span style=\"color: #00af00; text-decoration-color: #00af00\">33</span> │\n",
       "└─────────────────────────────────┴────────────────────────┴───────────────┘\n",
       "</pre>\n"
      ],
      "text/plain": [
       "┏━━━━━━━━━━━━━━━━━━━━━━━━━━━━━━━━━┳━━━━━━━━━━━━━━━━━━━━━━━━┳━━━━━━━━━━━━━━━┓\n",
       "┃\u001b[1m \u001b[0m\u001b[1mLayer (type)                   \u001b[0m\u001b[1m \u001b[0m┃\u001b[1m \u001b[0m\u001b[1mOutput Shape          \u001b[0m\u001b[1m \u001b[0m┃\u001b[1m \u001b[0m\u001b[1m      Param #\u001b[0m\u001b[1m \u001b[0m┃\n",
       "┡━━━━━━━━━━━━━━━━━━━━━━━━━━━━━━━━━╇━━━━━━━━━━━━━━━━━━━━━━━━╇━━━━━━━━━━━━━━━┩\n",
       "│ Hidden-1 (\u001b[38;5;33mDense\u001b[0m)                │ (\u001b[38;5;45mNone\u001b[0m, \u001b[38;5;34m64\u001b[0m)             │           \u001b[38;5;34m576\u001b[0m │\n",
       "├─────────────────────────────────┼────────────────────────┼───────────────┤\n",
       "│ Hidden-2 (\u001b[38;5;33mDense\u001b[0m)                │ (\u001b[38;5;45mNone\u001b[0m, \u001b[38;5;34m32\u001b[0m)             │         \u001b[38;5;34m2,080\u001b[0m │\n",
       "├─────────────────────────────────┼────────────────────────┼───────────────┤\n",
       "│ Output (\u001b[38;5;33mDense\u001b[0m)                  │ (\u001b[38;5;45mNone\u001b[0m, \u001b[38;5;34m1\u001b[0m)              │            \u001b[38;5;34m33\u001b[0m │\n",
       "└─────────────────────────────────┴────────────────────────┴───────────────┘\n"
      ]
     },
     "metadata": {},
     "output_type": "display_data"
    },
    {
     "data": {
      "text/html": [
       "<pre style=\"white-space:pre;overflow-x:auto;line-height:normal;font-family:Menlo,'DejaVu Sans Mono',consolas,'Courier New',monospace\"><span style=\"font-weight: bold\"> Total params: </span><span style=\"color: #00af00; text-decoration-color: #00af00\">2,689</span> (10.50 KB)\n",
       "</pre>\n"
      ],
      "text/plain": [
       "\u001b[1m Total params: \u001b[0m\u001b[38;5;34m2,689\u001b[0m (10.50 KB)\n"
      ]
     },
     "metadata": {},
     "output_type": "display_data"
    },
    {
     "data": {
      "text/html": [
       "<pre style=\"white-space:pre;overflow-x:auto;line-height:normal;font-family:Menlo,'DejaVu Sans Mono',consolas,'Courier New',monospace\"><span style=\"font-weight: bold\"> Trainable params: </span><span style=\"color: #00af00; text-decoration-color: #00af00\">2,689</span> (10.50 KB)\n",
       "</pre>\n"
      ],
      "text/plain": [
       "\u001b[1m Trainable params: \u001b[0m\u001b[38;5;34m2,689\u001b[0m (10.50 KB)\n"
      ]
     },
     "metadata": {},
     "output_type": "display_data"
    },
    {
     "data": {
      "text/html": [
       "<pre style=\"white-space:pre;overflow-x:auto;line-height:normal;font-family:Menlo,'DejaVu Sans Mono',consolas,'Courier New',monospace\"><span style=\"font-weight: bold\"> Non-trainable params: </span><span style=\"color: #00af00; text-decoration-color: #00af00\">0</span> (0.00 B)\n",
       "</pre>\n"
      ],
      "text/plain": [
       "\u001b[1m Non-trainable params: \u001b[0m\u001b[38;5;34m0\u001b[0m (0.00 B)\n"
      ]
     },
     "metadata": {},
     "output_type": "display_data"
    }
   ],
   "source": [
    "from tensorflow.keras.initializers import GlorotUniform\n",
    "\n",
    "model = Sequential(name=\"Sample\")\n",
    "\n",
    "model.add(Dense(64, activation=relu, kernel_initializer=GlorotUniform(seed=13579), input_shape=(dataset_x.shape[1],), name=\"Hidden-1\"))\n",
    "model.add(Dense(32, activation=relu, kernel_initializer=GlorotUniform(seed=13579), name=\"Hidden-2\"))\n",
    "model.add(Dense(1, activation='sigmoid', kernel_initializer=GlorotUniform(seed=13579), name=\"Output\"))\n",
    "\n",
    "model.summary()"
   ]
  },
  {
   "cell_type": "markdown",
   "id": "f5679eb5",
   "metadata": {},
   "source": [
    "### Yapay Sinir Ağları Katmanları\n",
    "\n",
    "Saklı katmanlardaki nöron sayıları için çok pratik şeyler söylemek zordur. Çünkü saklı katmanlardaki nöron sayıları bazı faktörlere de bağlı olabilmektedir. Örneğin eğitimdeki kullanılacak veri miktarı, problemin karmaşıklığı, hyper parametrelerin durumları saklı katmanlardaki nöron sayısı üzerinde etkili olabilmektedir. Saklı katmanlardaki nöron sayıları için şunlar söylenebilir:\n",
    "\n",
    "Problem karmaşıklaştıkça saklı katmanlardaki nöron sayılarını artırmak uygun olabilmektedir.\n",
    "\n",
    "Saklı katmanlarda çok az nöron bulundurmak \"underfitting\" yani yetersiz öğrenmeye yol açabilmektedir.\n",
    "\n",
    "Saklı katmanlarda gereksiz biçimde fazla sayıda nöron bulundurmak hem eğitim süresini uzatabileceği gibi hem de \"overfitting\" durumuna yol açabilir.\n",
    "\n",
    "Eğitim veri kümesi azsa katmanlardaki nöron sayıları düşürülebilir.\n",
    "\n",
    "Pek çok problemde katmanlardaki nöron sayıları çok fazla ya da çok az olmadıktan sonra önemli olmayabilmektedir.\n",
    "\n",
    "Saklı katmanlardaki nöron sayısı girdi katmanındaki nöron sayısından az olmalıdır.\n",
    "\n",
    "Biz genellikle genel problemlerde iki saklı katman ve katmanlarda da 64, 100, 128 gibi sayılarda nöron kullanacağız. Ancak ileride özel mimarilerde bu durumu farklılaştıracağız.\n",
    "\n",
    "Yapay sinir ağı her farklı eğitimde farklı \"w\" ve \"bias\" değerlerini oluşturabilir. Yani ağın performansı eğitimden eğitime değişebilir. Her eğitimde ağın farklı değerlerle konumlandırılmasının nedenleri şunlardır:\n",
    "\n",
    "train_test_split fonksiyonu her çalıştırıldığında aslında fonksiyon training_dataset ve test_dataset veri kümelerini karıştırarak elde etmektedir.\n",
    "\n",
    "Katmanlardaki \"w\" değerleri programın her çalıştırılmasında rastgele bir başlangıç değeriyle set edilmektedir.\n",
    "\n",
    "fit işleminde her epoch sonrasında veri kümesi yeniden karıştırılmaktadır.\n",
    "\n",
    "Bir rastgele sayı üretiminde aynı üretim aynı \"tohum değerden (seed)\" başlatılırsa hep aynı değerler elde edilir. Bu duruma rassal sayı üretiminin \"reproducible\" olması denmektedir. Eğer tohum değer belirtilmezse bu tohum değer programın her çalıştırılmasında rastgele biçimde bilgisayarın saatinden alınmaktadır.\n",
    "\n",
    "O halde eğitimden hep aynı sonucun elde edilmesi için (yani eğitimin \"reproducible\" hale getirilmesi için) yukarıdaki unsurların dikkate alınması gerekir.\n",
    "\n",
    "Katmanlardaki aktivasyon fonksiyonları ne olmalıdır? Girdi katmanı gerçek bir katman olmadığında göre orada bir aktivasyon fonksiyonu yoktur.\n",
    "Saklı katmanlardaki aktivasyon fonksiyonları için çeşitli seçenekler bulunmaktadır. Ancak son yıllarda pek çok problemde en çok kullanılan ve başarısı görülmüş olan aktivasyon fonksiyonu \"relu (rectified linear unit)\" denilen fonksiyondur. Relu fonksiyonu şöyledir:\n",
    "\n",
    "x >= 0   ise y = x  \n",
    "x <  0   ise y = 0\n"
   ]
  },
  {
   "cell_type": "code",
   "execution_count": 77,
   "id": "40de5ce9",
   "metadata": {},
   "outputs": [],
   "source": [
    "from tensorflow.keras.optimizers import RMSprop\n",
    "\n",
    "rmsprop = RMSprop()\n",
    "model.compile(optimizer=rmsprop, loss='binary_crossentropy', metrics=['binary_accuracy'])"
   ]
  },
  {
   "cell_type": "code",
   "execution_count": 78,
   "id": "24acef0a",
   "metadata": {},
   "outputs": [
    {
     "name": "stdout",
     "output_type": "stream",
     "text": [
      "Epoch 1/100\n",
      "\u001b[1m15/15\u001b[0m \u001b[32m━━━━━━━━━━━━━━━━━━━━\u001b[0m\u001b[37m\u001b[0m \u001b[1m1s\u001b[0m 13ms/step - binary_accuracy: 0.4198 - loss: 7.3778 - val_binary_accuracy: 0.6121 - val_loss: 1.1081\n",
      "Epoch 2/100\n",
      "\u001b[1m15/15\u001b[0m \u001b[32m━━━━━━━━━━━━━━━━━━━━\u001b[0m\u001b[37m\u001b[0m \u001b[1m0s\u001b[0m 4ms/step - binary_accuracy: 0.5054 - loss: 1.2635 - val_binary_accuracy: 0.6207 - val_loss: 0.7250\n",
      "Epoch 3/100\n",
      "\u001b[1m15/15\u001b[0m \u001b[32m━━━━━━━━━━━━━━━━━━━━\u001b[0m\u001b[37m\u001b[0m \u001b[1m0s\u001b[0m 5ms/step - binary_accuracy: 0.5669 - loss: 0.9034 - val_binary_accuracy: 0.6466 - val_loss: 0.6899\n",
      "Epoch 4/100\n",
      "\u001b[1m15/15\u001b[0m \u001b[32m━━━━━━━━━━━━━━━━━━━━\u001b[0m\u001b[37m\u001b[0m \u001b[1m0s\u001b[0m 5ms/step - binary_accuracy: 0.6024 - loss: 0.8804 - val_binary_accuracy: 0.5948 - val_loss: 0.7211\n",
      "Epoch 5/100\n",
      "\u001b[1m15/15\u001b[0m \u001b[32m━━━━━━━━━━━━━━━━━━━━\u001b[0m\u001b[37m\u001b[0m \u001b[1m0s\u001b[0m 4ms/step - binary_accuracy: 0.6133 - loss: 0.8332 - val_binary_accuracy: 0.6379 - val_loss: 0.7044\n",
      "Epoch 6/100\n",
      "\u001b[1m15/15\u001b[0m \u001b[32m━━━━━━━━━━━━━━━━━━━━\u001b[0m\u001b[37m\u001b[0m \u001b[1m0s\u001b[0m 4ms/step - binary_accuracy: 0.6302 - loss: 0.8427 - val_binary_accuracy: 0.6379 - val_loss: 0.6765\n",
      "Epoch 7/100\n",
      "\u001b[1m15/15\u001b[0m \u001b[32m━━━━━━━━━━━━━━━━━━━━\u001b[0m\u001b[37m\u001b[0m \u001b[1m0s\u001b[0m 5ms/step - binary_accuracy: 0.6348 - loss: 0.8410 - val_binary_accuracy: 0.6207 - val_loss: 0.6795\n",
      "Epoch 8/100\n",
      "\u001b[1m15/15\u001b[0m \u001b[32m━━━━━━━━━━━━━━━━━━━━\u001b[0m\u001b[37m\u001b[0m \u001b[1m0s\u001b[0m 5ms/step - binary_accuracy: 0.6308 - loss: 0.8564 - val_binary_accuracy: 0.6207 - val_loss: 0.6764\n",
      "Epoch 9/100\n",
      "\u001b[1m15/15\u001b[0m \u001b[32m━━━━━━━━━━━━━━━━━━━━\u001b[0m\u001b[37m\u001b[0m \u001b[1m0s\u001b[0m 5ms/step - binary_accuracy: 0.6437 - loss: 0.8548 - val_binary_accuracy: 0.6466 - val_loss: 0.6824\n",
      "Epoch 10/100\n",
      "\u001b[1m15/15\u001b[0m \u001b[32m━━━━━━━━━━━━━━━━━━━━\u001b[0m\u001b[37m\u001b[0m \u001b[1m0s\u001b[0m 4ms/step - binary_accuracy: 0.6368 - loss: 0.8430 - val_binary_accuracy: 0.6466 - val_loss: 0.6971\n",
      "Epoch 11/100\n",
      "\u001b[1m15/15\u001b[0m \u001b[32m━━━━━━━━━━━━━━━━━━━━\u001b[0m\u001b[37m\u001b[0m \u001b[1m0s\u001b[0m 5ms/step - binary_accuracy: 0.6452 - loss: 0.8360 - val_binary_accuracy: 0.6379 - val_loss: 0.7042\n",
      "Epoch 12/100\n",
      "\u001b[1m15/15\u001b[0m \u001b[32m━━━━━━━━━━━━━━━━━━━━\u001b[0m\u001b[37m\u001b[0m \u001b[1m0s\u001b[0m 5ms/step - binary_accuracy: 0.6429 - loss: 0.8271 - val_binary_accuracy: 0.6379 - val_loss: 0.7077\n",
      "Epoch 13/100\n",
      "\u001b[1m15/15\u001b[0m \u001b[32m━━━━━━━━━━━━━━━━━━━━\u001b[0m\u001b[37m\u001b[0m \u001b[1m0s\u001b[0m 5ms/step - binary_accuracy: 0.6437 - loss: 0.8243 - val_binary_accuracy: 0.6552 - val_loss: 0.7348\n",
      "Epoch 14/100\n",
      "\u001b[1m15/15\u001b[0m \u001b[32m━━━━━━━━━━━━━━━━━━━━\u001b[0m\u001b[37m\u001b[0m \u001b[1m0s\u001b[0m 5ms/step - binary_accuracy: 0.6464 - loss: 0.8255 - val_binary_accuracy: 0.6379 - val_loss: 0.7256\n",
      "Epoch 15/100\n",
      "\u001b[1m15/15\u001b[0m \u001b[32m━━━━━━━━━━━━━━━━━━━━\u001b[0m\u001b[37m\u001b[0m \u001b[1m0s\u001b[0m 4ms/step - binary_accuracy: 0.6506 - loss: 0.8157 - val_binary_accuracy: 0.6379 - val_loss: 0.7202\n",
      "Epoch 16/100\n",
      "\u001b[1m15/15\u001b[0m \u001b[32m━━━━━━━━━━━━━━━━━━━━\u001b[0m\u001b[37m\u001b[0m \u001b[1m0s\u001b[0m 5ms/step - binary_accuracy: 0.6569 - loss: 0.8013 - val_binary_accuracy: 0.6466 - val_loss: 0.7256\n",
      "Epoch 17/100\n",
      "\u001b[1m15/15\u001b[0m \u001b[32m━━━━━━━━━━━━━━━━━━━━\u001b[0m\u001b[37m\u001b[0m \u001b[1m0s\u001b[0m 4ms/step - binary_accuracy: 0.6624 - loss: 0.8109 - val_binary_accuracy: 0.6552 - val_loss: 0.6935\n",
      "Epoch 18/100\n",
      "\u001b[1m15/15\u001b[0m \u001b[32m━━━━━━━━━━━━━━━━━━━━\u001b[0m\u001b[37m\u001b[0m \u001b[1m0s\u001b[0m 5ms/step - binary_accuracy: 0.6615 - loss: 0.8090 - val_binary_accuracy: 0.6466 - val_loss: 0.7208\n",
      "Epoch 19/100\n",
      "\u001b[1m15/15\u001b[0m \u001b[32m━━━━━━━━━━━━━━━━━━━━\u001b[0m\u001b[37m\u001b[0m \u001b[1m0s\u001b[0m 5ms/step - binary_accuracy: 0.6641 - loss: 0.7998 - val_binary_accuracy: 0.6638 - val_loss: 0.6949\n",
      "Epoch 20/100\n",
      "\u001b[1m15/15\u001b[0m \u001b[32m━━━━━━━━━━━━━━━━━━━━\u001b[0m\u001b[37m\u001b[0m \u001b[1m0s\u001b[0m 5ms/step - binary_accuracy: 0.6540 - loss: 0.8064 - val_binary_accuracy: 0.6552 - val_loss: 0.7068\n",
      "Epoch 21/100\n",
      "\u001b[1m15/15\u001b[0m \u001b[32m━━━━━━━━━━━━━━━━━━━━\u001b[0m\u001b[37m\u001b[0m \u001b[1m0s\u001b[0m 4ms/step - binary_accuracy: 0.6632 - loss: 0.7839 - val_binary_accuracy: 0.6810 - val_loss: 0.7224\n",
      "Epoch 22/100\n",
      "\u001b[1m15/15\u001b[0m \u001b[32m━━━━━━━━━━━━━━━━━━━━\u001b[0m\u001b[37m\u001b[0m \u001b[1m0s\u001b[0m 4ms/step - binary_accuracy: 0.6601 - loss: 0.8043 - val_binary_accuracy: 0.6552 - val_loss: 0.7101\n",
      "Epoch 23/100\n",
      "\u001b[1m15/15\u001b[0m \u001b[32m━━━━━━━━━━━━━━━━━━━━\u001b[0m\u001b[37m\u001b[0m \u001b[1m0s\u001b[0m 4ms/step - binary_accuracy: 0.6653 - loss: 0.7746 - val_binary_accuracy: 0.6638 - val_loss: 0.7375\n",
      "Epoch 24/100\n",
      "\u001b[1m15/15\u001b[0m \u001b[32m━━━━━━━━━━━━━━━━━━━━\u001b[0m\u001b[37m\u001b[0m \u001b[1m0s\u001b[0m 4ms/step - binary_accuracy: 0.6614 - loss: 0.7924 - val_binary_accuracy: 0.6638 - val_loss: 0.7244\n",
      "Epoch 25/100\n",
      "\u001b[1m15/15\u001b[0m \u001b[32m━━━━━━━━━━━━━━━━━━━━\u001b[0m\u001b[37m\u001b[0m \u001b[1m0s\u001b[0m 5ms/step - binary_accuracy: 0.6798 - loss: 0.7697 - val_binary_accuracy: 0.6638 - val_loss: 0.7234\n",
      "Epoch 26/100\n",
      "\u001b[1m15/15\u001b[0m \u001b[32m━━━━━━━━━━━━━━━━━━━━\u001b[0m\u001b[37m\u001b[0m \u001b[1m0s\u001b[0m 4ms/step - binary_accuracy: 0.6602 - loss: 0.7924 - val_binary_accuracy: 0.6638 - val_loss: 0.7382\n",
      "Epoch 27/100\n",
      "\u001b[1m15/15\u001b[0m \u001b[32m━━━━━━━━━━━━━━━━━━━━\u001b[0m\u001b[37m\u001b[0m \u001b[1m0s\u001b[0m 4ms/step - binary_accuracy: 0.6823 - loss: 0.7588 - val_binary_accuracy: 0.6466 - val_loss: 0.7372\n",
      "Epoch 28/100\n",
      "\u001b[1m15/15\u001b[0m \u001b[32m━━━━━━━━━━━━━━━━━━━━\u001b[0m\u001b[37m\u001b[0m \u001b[1m0s\u001b[0m 4ms/step - binary_accuracy: 0.6715 - loss: 0.7841 - val_binary_accuracy: 0.6552 - val_loss: 0.7281\n",
      "Epoch 29/100\n",
      "\u001b[1m15/15\u001b[0m \u001b[32m━━━━━━━━━━━━━━━━━━━━\u001b[0m\u001b[37m\u001b[0m \u001b[1m0s\u001b[0m 5ms/step - binary_accuracy: 0.6835 - loss: 0.7536 - val_binary_accuracy: 0.6466 - val_loss: 0.7300\n",
      "Epoch 30/100\n",
      "\u001b[1m15/15\u001b[0m \u001b[32m━━━━━━━━━━━━━━━━━━━━\u001b[0m\u001b[37m\u001b[0m \u001b[1m0s\u001b[0m 5ms/step - binary_accuracy: 0.6706 - loss: 0.7732 - val_binary_accuracy: 0.6724 - val_loss: 0.7614\n",
      "Epoch 31/100\n",
      "\u001b[1m15/15\u001b[0m \u001b[32m━━━━━━━━━━━━━━━━━━━━\u001b[0m\u001b[37m\u001b[0m \u001b[1m0s\u001b[0m 5ms/step - binary_accuracy: 0.6886 - loss: 0.7509 - val_binary_accuracy: 0.6466 - val_loss: 0.7314\n",
      "Epoch 32/100\n",
      "\u001b[1m15/15\u001b[0m \u001b[32m━━━━━━━━━━━━━━━━━━━━\u001b[0m\u001b[37m\u001b[0m \u001b[1m0s\u001b[0m 5ms/step - binary_accuracy: 0.6807 - loss: 0.7587 - val_binary_accuracy: 0.6552 - val_loss: 0.7500\n",
      "Epoch 33/100\n",
      "\u001b[1m15/15\u001b[0m \u001b[32m━━━━━━━━━━━━━━━━━━━━\u001b[0m\u001b[37m\u001b[0m \u001b[1m0s\u001b[0m 4ms/step - binary_accuracy: 0.7014 - loss: 0.7396 - val_binary_accuracy: 0.6638 - val_loss: 0.7557\n",
      "Epoch 34/100\n",
      "\u001b[1m15/15\u001b[0m \u001b[32m━━━━━━━━━━━━━━━━━━━━\u001b[0m\u001b[37m\u001b[0m \u001b[1m0s\u001b[0m 5ms/step - binary_accuracy: 0.6852 - loss: 0.7663 - val_binary_accuracy: 0.6552 - val_loss: 0.7586\n",
      "Epoch 35/100\n",
      "\u001b[1m15/15\u001b[0m \u001b[32m━━━━━━━━━━━━━━━━━━━━\u001b[0m\u001b[37m\u001b[0m \u001b[1m0s\u001b[0m 4ms/step - binary_accuracy: 0.6947 - loss: 0.7262 - val_binary_accuracy: 0.6466 - val_loss: 0.7360\n",
      "Epoch 36/100\n",
      "\u001b[1m15/15\u001b[0m \u001b[32m━━━━━━━━━━━━━━━━━━━━\u001b[0m\u001b[37m\u001b[0m \u001b[1m0s\u001b[0m 5ms/step - binary_accuracy: 0.6897 - loss: 0.7300 - val_binary_accuracy: 0.6724 - val_loss: 0.7555\n",
      "Epoch 37/100\n",
      "\u001b[1m15/15\u001b[0m \u001b[32m━━━━━━━━━━━━━━━━━━━━\u001b[0m\u001b[37m\u001b[0m \u001b[1m0s\u001b[0m 5ms/step - binary_accuracy: 0.6865 - loss: 0.7357 - val_binary_accuracy: 0.6293 - val_loss: 0.7559\n",
      "Epoch 38/100\n",
      "\u001b[1m15/15\u001b[0m \u001b[32m━━━━━━━━━━━━━━━━━━━━\u001b[0m\u001b[37m\u001b[0m \u001b[1m0s\u001b[0m 5ms/step - binary_accuracy: 0.6996 - loss: 0.7161 - val_binary_accuracy: 0.6552 - val_loss: 0.7798\n",
      "Epoch 39/100\n",
      "\u001b[1m15/15\u001b[0m \u001b[32m━━━━━━━━━━━━━━━━━━━━\u001b[0m\u001b[37m\u001b[0m \u001b[1m0s\u001b[0m 4ms/step - binary_accuracy: 0.6999 - loss: 0.7366 - val_binary_accuracy: 0.6466 - val_loss: 0.7450\n",
      "Epoch 40/100\n",
      "\u001b[1m15/15\u001b[0m \u001b[32m━━━━━━━━━━━━━━━━━━━━\u001b[0m\u001b[37m\u001b[0m \u001b[1m0s\u001b[0m 4ms/step - binary_accuracy: 0.6883 - loss: 0.7276 - val_binary_accuracy: 0.6293 - val_loss: 0.7681\n",
      "Epoch 41/100\n",
      "\u001b[1m15/15\u001b[0m \u001b[32m━━━━━━━━━━━━━━━━━━━━\u001b[0m\u001b[37m\u001b[0m \u001b[1m0s\u001b[0m 4ms/step - binary_accuracy: 0.6982 - loss: 0.7175 - val_binary_accuracy: 0.6466 - val_loss: 0.7688\n",
      "Epoch 42/100\n",
      "\u001b[1m15/15\u001b[0m \u001b[32m━━━━━━━━━━━━━━━━━━━━\u001b[0m\u001b[37m\u001b[0m \u001b[1m0s\u001b[0m 6ms/step - binary_accuracy: 0.7031 - loss: 0.7103 - val_binary_accuracy: 0.6552 - val_loss: 0.7814\n",
      "Epoch 43/100\n",
      "\u001b[1m15/15\u001b[0m \u001b[32m━━━━━━━━━━━━━━━━━━━━\u001b[0m\u001b[37m\u001b[0m \u001b[1m0s\u001b[0m 4ms/step - binary_accuracy: 0.6975 - loss: 0.7376 - val_binary_accuracy: 0.6293 - val_loss: 0.7512\n",
      "Epoch 44/100\n",
      "\u001b[1m15/15\u001b[0m \u001b[32m━━━━━━━━━━━━━━━━━━━━\u001b[0m\u001b[37m\u001b[0m \u001b[1m0s\u001b[0m 5ms/step - binary_accuracy: 0.6970 - loss: 0.7049 - val_binary_accuracy: 0.6466 - val_loss: 0.7828\n",
      "Epoch 45/100\n",
      "\u001b[1m15/15\u001b[0m \u001b[32m━━━━━━━━━━━━━━━━━━━━\u001b[0m\u001b[37m\u001b[0m \u001b[1m0s\u001b[0m 5ms/step - binary_accuracy: 0.7006 - loss: 0.7150 - val_binary_accuracy: 0.6724 - val_loss: 0.8001\n",
      "Epoch 46/100\n",
      "\u001b[1m15/15\u001b[0m \u001b[32m━━━━━━━━━━━━━━━━━━━━\u001b[0m\u001b[37m\u001b[0m \u001b[1m0s\u001b[0m 5ms/step - binary_accuracy: 0.7015 - loss: 0.7246 - val_binary_accuracy: 0.6724 - val_loss: 0.7999\n",
      "Epoch 47/100\n",
      "\u001b[1m15/15\u001b[0m \u001b[32m━━━━━━━━━━━━━━━━━━━━\u001b[0m\u001b[37m\u001b[0m \u001b[1m0s\u001b[0m 5ms/step - binary_accuracy: 0.6948 - loss: 0.7214 - val_binary_accuracy: 0.6379 - val_loss: 0.7759\n",
      "Epoch 48/100\n",
      "\u001b[1m15/15\u001b[0m \u001b[32m━━━━━━━━━━━━━━━━━━━━\u001b[0m\u001b[37m\u001b[0m \u001b[1m0s\u001b[0m 5ms/step - binary_accuracy: 0.7066 - loss: 0.6837 - val_binary_accuracy: 0.6810 - val_loss: 0.7987\n",
      "Epoch 49/100\n",
      "\u001b[1m15/15\u001b[0m \u001b[32m━━━━━━━━━━━━━━━━━━━━\u001b[0m\u001b[37m\u001b[0m \u001b[1m0s\u001b[0m 4ms/step - binary_accuracy: 0.6977 - loss: 0.7154 - val_binary_accuracy: 0.6638 - val_loss: 0.8053\n",
      "Epoch 50/100\n",
      "\u001b[1m15/15\u001b[0m \u001b[32m━━━━━━━━━━━━━━━━━━━━\u001b[0m\u001b[37m\u001b[0m \u001b[1m0s\u001b[0m 5ms/step - binary_accuracy: 0.6961 - loss: 0.7176 - val_binary_accuracy: 0.6293 - val_loss: 0.7791\n",
      "Epoch 51/100\n",
      "\u001b[1m15/15\u001b[0m \u001b[32m━━━━━━━━━━━━━━━━━━━━\u001b[0m\u001b[37m\u001b[0m \u001b[1m0s\u001b[0m 5ms/step - binary_accuracy: 0.7081 - loss: 0.6791 - val_binary_accuracy: 0.6379 - val_loss: 0.7981\n",
      "Epoch 52/100\n",
      "\u001b[1m15/15\u001b[0m \u001b[32m━━━━━━━━━━━━━━━━━━━━\u001b[0m\u001b[37m\u001b[0m \u001b[1m0s\u001b[0m 5ms/step - binary_accuracy: 0.7148 - loss: 0.6848 - val_binary_accuracy: 0.6466 - val_loss: 0.7941\n",
      "Epoch 53/100\n",
      "\u001b[1m15/15\u001b[0m \u001b[32m━━━━━━━━━━━━━━━━━━━━\u001b[0m\u001b[37m\u001b[0m \u001b[1m0s\u001b[0m 4ms/step - binary_accuracy: 0.7097 - loss: 0.6807 - val_binary_accuracy: 0.6379 - val_loss: 0.7820\n",
      "Epoch 54/100\n",
      "\u001b[1m15/15\u001b[0m \u001b[32m━━━━━━━━━━━━━━━━━━━━\u001b[0m\u001b[37m\u001b[0m \u001b[1m0s\u001b[0m 4ms/step - binary_accuracy: 0.7062 - loss: 0.6900 - val_binary_accuracy: 0.6552 - val_loss: 0.8164\n",
      "Epoch 55/100\n",
      "\u001b[1m15/15\u001b[0m \u001b[32m━━━━━━━━━━━━━━━━━━━━\u001b[0m\u001b[37m\u001b[0m \u001b[1m0s\u001b[0m 5ms/step - binary_accuracy: 0.7076 - loss: 0.6715 - val_binary_accuracy: 0.6638 - val_loss: 0.8060\n",
      "Epoch 56/100\n",
      "\u001b[1m15/15\u001b[0m \u001b[32m━━━━━━━━━━━━━━━━━━━━\u001b[0m\u001b[37m\u001b[0m \u001b[1m0s\u001b[0m 5ms/step - binary_accuracy: 0.7044 - loss: 0.6932 - val_binary_accuracy: 0.6552 - val_loss: 0.8000\n",
      "Epoch 57/100\n",
      "\u001b[1m15/15\u001b[0m \u001b[32m━━━━━━━━━━━━━━━━━━━━\u001b[0m\u001b[37m\u001b[0m \u001b[1m0s\u001b[0m 4ms/step - binary_accuracy: 0.7272 - loss: 0.6658 - val_binary_accuracy: 0.6552 - val_loss: 0.8037\n",
      "Epoch 58/100\n",
      "\u001b[1m15/15\u001b[0m \u001b[32m━━━━━━━━━━━━━━━━━━━━\u001b[0m\u001b[37m\u001b[0m \u001b[1m0s\u001b[0m 4ms/step - binary_accuracy: 0.7023 - loss: 0.6923 - val_binary_accuracy: 0.6638 - val_loss: 0.8176\n",
      "Epoch 59/100\n",
      "\u001b[1m15/15\u001b[0m \u001b[32m━━━━━━━━━━━━━━━━━━━━\u001b[0m\u001b[37m\u001b[0m \u001b[1m0s\u001b[0m 6ms/step - binary_accuracy: 0.7107 - loss: 0.6792 - val_binary_accuracy: 0.6552 - val_loss: 0.8108\n",
      "Epoch 60/100\n",
      "\u001b[1m15/15\u001b[0m \u001b[32m━━━━━━━━━━━━━━━━━━━━\u001b[0m\u001b[37m\u001b[0m \u001b[1m0s\u001b[0m 4ms/step - binary_accuracy: 0.7094 - loss: 0.6788 - val_binary_accuracy: 0.6466 - val_loss: 0.7916\n",
      "Epoch 61/100\n",
      "\u001b[1m15/15\u001b[0m \u001b[32m━━━━━━━━━━━━━━━━━━━━\u001b[0m\u001b[37m\u001b[0m \u001b[1m0s\u001b[0m 4ms/step - binary_accuracy: 0.7120 - loss: 0.6745 - val_binary_accuracy: 0.6638 - val_loss: 0.8173\n",
      "Epoch 62/100\n",
      "\u001b[1m15/15\u001b[0m \u001b[32m━━━━━━━━━━━━━━━━━━━━\u001b[0m\u001b[37m\u001b[0m \u001b[1m0s\u001b[0m 5ms/step - binary_accuracy: 0.7284 - loss: 0.6465 - val_binary_accuracy: 0.6638 - val_loss: 0.8213\n",
      "Epoch 63/100\n",
      "\u001b[1m15/15\u001b[0m \u001b[32m━━━━━━━━━━━━━━━━━━━━\u001b[0m\u001b[37m\u001b[0m \u001b[1m0s\u001b[0m 5ms/step - binary_accuracy: 0.7022 - loss: 0.6889 - val_binary_accuracy: 0.6552 - val_loss: 0.8245\n",
      "Epoch 64/100\n",
      "\u001b[1m15/15\u001b[0m \u001b[32m━━━━━━━━━━━━━━━━━━━━\u001b[0m\u001b[37m\u001b[0m \u001b[1m0s\u001b[0m 4ms/step - binary_accuracy: 0.7202 - loss: 0.6919 - val_binary_accuracy: 0.6466 - val_loss: 0.8348\n",
      "Epoch 65/100\n",
      "\u001b[1m15/15\u001b[0m \u001b[32m━━━━━━━━━━━━━━━━━━━━\u001b[0m\u001b[37m\u001b[0m \u001b[1m0s\u001b[0m 4ms/step - binary_accuracy: 0.7389 - loss: 0.6404 - val_binary_accuracy: 0.6552 - val_loss: 0.8502\n",
      "Epoch 66/100\n",
      "\u001b[1m15/15\u001b[0m \u001b[32m━━━━━━━━━━━━━━━━━━━━\u001b[0m\u001b[37m\u001b[0m \u001b[1m0s\u001b[0m 4ms/step - binary_accuracy: 0.7226 - loss: 0.6820 - val_binary_accuracy: 0.6638 - val_loss: 0.8268\n",
      "Epoch 67/100\n",
      "\u001b[1m15/15\u001b[0m \u001b[32m━━━━━━━━━━━━━━━━━━━━\u001b[0m\u001b[37m\u001b[0m \u001b[1m0s\u001b[0m 5ms/step - binary_accuracy: 0.7183 - loss: 0.6436 - val_binary_accuracy: 0.6293 - val_loss: 0.8681\n",
      "Epoch 68/100\n",
      "\u001b[1m15/15\u001b[0m \u001b[32m━━━━━━━━━━━━━━━━━━━━\u001b[0m\u001b[37m\u001b[0m \u001b[1m0s\u001b[0m 4ms/step - binary_accuracy: 0.7263 - loss: 0.6969 - val_binary_accuracy: 0.6466 - val_loss: 0.8365\n",
      "Epoch 69/100\n",
      "\u001b[1m15/15\u001b[0m \u001b[32m━━━━━━━━━━━━━━━━━━━━\u001b[0m\u001b[37m\u001b[0m \u001b[1m0s\u001b[0m 4ms/step - binary_accuracy: 0.7340 - loss: 0.6373 - val_binary_accuracy: 0.6466 - val_loss: 0.8414\n",
      "Epoch 70/100\n",
      "\u001b[1m15/15\u001b[0m \u001b[32m━━━━━━━━━━━━━━━━━━━━\u001b[0m\u001b[37m\u001b[0m \u001b[1m0s\u001b[0m 5ms/step - binary_accuracy: 0.7232 - loss: 0.6570 - val_binary_accuracy: 0.6466 - val_loss: 0.8391\n",
      "Epoch 71/100\n",
      "\u001b[1m15/15\u001b[0m \u001b[32m━━━━━━━━━━━━━━━━━━━━\u001b[0m\u001b[37m\u001b[0m \u001b[1m0s\u001b[0m 4ms/step - binary_accuracy: 0.7373 - loss: 0.6504 - val_binary_accuracy: 0.6466 - val_loss: 0.8424\n",
      "Epoch 72/100\n",
      "\u001b[1m15/15\u001b[0m \u001b[32m━━━━━━━━━━━━━━━━━━━━\u001b[0m\u001b[37m\u001b[0m \u001b[1m0s\u001b[0m 5ms/step - binary_accuracy: 0.7295 - loss: 0.6466 - val_binary_accuracy: 0.6466 - val_loss: 0.8397\n",
      "Epoch 73/100\n",
      "\u001b[1m15/15\u001b[0m \u001b[32m━━━━━━━━━━━━━━━━━━━━\u001b[0m\u001b[37m\u001b[0m \u001b[1m0s\u001b[0m 4ms/step - binary_accuracy: 0.7374 - loss: 0.6317 - val_binary_accuracy: 0.6466 - val_loss: 0.8590\n",
      "Epoch 74/100\n",
      "\u001b[1m15/15\u001b[0m \u001b[32m━━━━━━━━━━━━━━━━━━━━\u001b[0m\u001b[37m\u001b[0m \u001b[1m0s\u001b[0m 4ms/step - binary_accuracy: 0.7162 - loss: 0.6769 - val_binary_accuracy: 0.6293 - val_loss: 0.8610\n",
      "Epoch 75/100\n",
      "\u001b[1m15/15\u001b[0m \u001b[32m━━━━━━━━━━━━━━━━━━━━\u001b[0m\u001b[37m\u001b[0m \u001b[1m0s\u001b[0m 5ms/step - binary_accuracy: 0.7363 - loss: 0.6483 - val_binary_accuracy: 0.6379 - val_loss: 0.8740\n",
      "Epoch 76/100\n",
      "\u001b[1m15/15\u001b[0m \u001b[32m━━━━━━━━━━━━━━━━━━━━\u001b[0m\u001b[37m\u001b[0m \u001b[1m0s\u001b[0m 4ms/step - binary_accuracy: 0.7447 - loss: 0.6314 - val_binary_accuracy: 0.6379 - val_loss: 0.8468\n",
      "Epoch 77/100\n",
      "\u001b[1m15/15\u001b[0m \u001b[32m━━━━━━━━━━━━━━━━━━━━\u001b[0m\u001b[37m\u001b[0m \u001b[1m0s\u001b[0m 5ms/step - binary_accuracy: 0.7306 - loss: 0.6352 - val_binary_accuracy: 0.6466 - val_loss: 0.9125\n",
      "Epoch 78/100\n",
      "\u001b[1m15/15\u001b[0m \u001b[32m━━━━━━━━━━━━━━━━━━━━\u001b[0m\u001b[37m\u001b[0m \u001b[1m0s\u001b[0m 4ms/step - binary_accuracy: 0.7262 - loss: 0.6798 - val_binary_accuracy: 0.6293 - val_loss: 0.8622\n",
      "Epoch 79/100\n",
      "\u001b[1m15/15\u001b[0m \u001b[32m━━━━━━━━━━━━━━━━━━━━\u001b[0m\u001b[37m\u001b[0m \u001b[1m0s\u001b[0m 4ms/step - binary_accuracy: 0.7437 - loss: 0.6124 - val_binary_accuracy: 0.6379 - val_loss: 0.8693\n",
      "Epoch 80/100\n",
      "\u001b[1m15/15\u001b[0m \u001b[32m━━━━━━━━━━━━━━━━━━━━\u001b[0m\u001b[37m\u001b[0m \u001b[1m0s\u001b[0m 5ms/step - binary_accuracy: 0.7202 - loss: 0.6583 - val_binary_accuracy: 0.6379 - val_loss: 0.8492\n",
      "Epoch 81/100\n",
      "\u001b[1m15/15\u001b[0m \u001b[32m━━━━━━━━━━━━━━━━━━━━\u001b[0m\u001b[37m\u001b[0m \u001b[1m0s\u001b[0m 4ms/step - binary_accuracy: 0.7288 - loss: 0.6316 - val_binary_accuracy: 0.6293 - val_loss: 0.8763\n",
      "Epoch 82/100\n",
      "\u001b[1m15/15\u001b[0m \u001b[32m━━━━━━━━━━━━━━━━━━━━\u001b[0m\u001b[37m\u001b[0m \u001b[1m0s\u001b[0m 4ms/step - binary_accuracy: 0.7325 - loss: 0.6477 - val_binary_accuracy: 0.6293 - val_loss: 0.8920\n",
      "Epoch 83/100\n",
      "\u001b[1m15/15\u001b[0m \u001b[32m━━━━━━━━━━━━━━━━━━━━\u001b[0m\u001b[37m\u001b[0m \u001b[1m0s\u001b[0m 4ms/step - binary_accuracy: 0.7372 - loss: 0.6194 - val_binary_accuracy: 0.6293 - val_loss: 0.8567\n",
      "Epoch 84/100\n",
      "\u001b[1m15/15\u001b[0m \u001b[32m━━━━━━━━━━━━━━━━━━━━\u001b[0m\u001b[37m\u001b[0m \u001b[1m0s\u001b[0m 5ms/step - binary_accuracy: 0.7291 - loss: 0.6214 - val_binary_accuracy: 0.6466 - val_loss: 0.9067\n",
      "Epoch 85/100\n",
      "\u001b[1m15/15\u001b[0m \u001b[32m━━━━━━━━━━━━━━━━━━━━\u001b[0m\u001b[37m\u001b[0m \u001b[1m0s\u001b[0m 5ms/step - binary_accuracy: 0.7330 - loss: 0.6556 - val_binary_accuracy: 0.6293 - val_loss: 0.8684\n",
      "Epoch 86/100\n",
      "\u001b[1m15/15\u001b[0m \u001b[32m━━━━━━━━━━━━━━━━━━━━\u001b[0m\u001b[37m\u001b[0m \u001b[1m0s\u001b[0m 4ms/step - binary_accuracy: 0.7415 - loss: 0.6077 - val_binary_accuracy: 0.6466 - val_loss: 0.9067\n",
      "Epoch 87/100\n",
      "\u001b[1m15/15\u001b[0m \u001b[32m━━━━━━━━━━━━━━━━━━━━\u001b[0m\u001b[37m\u001b[0m \u001b[1m0s\u001b[0m 5ms/step - binary_accuracy: 0.7220 - loss: 0.6599 - val_binary_accuracy: 0.6293 - val_loss: 0.8810\n",
      "Epoch 88/100\n",
      "\u001b[1m15/15\u001b[0m \u001b[32m━━━━━━━━━━━━━━━━━━━━\u001b[0m\u001b[37m\u001b[0m \u001b[1m0s\u001b[0m 4ms/step - binary_accuracy: 0.7459 - loss: 0.5985 - val_binary_accuracy: 0.6293 - val_loss: 0.9037\n",
      "Epoch 89/100\n",
      "\u001b[1m15/15\u001b[0m \u001b[32m━━━━━━━━━━━━━━━━━━━━\u001b[0m\u001b[37m\u001b[0m \u001b[1m0s\u001b[0m 6ms/step - binary_accuracy: 0.7313 - loss: 0.6483 - val_binary_accuracy: 0.6293 - val_loss: 0.8899\n",
      "Epoch 90/100\n",
      "\u001b[1m15/15\u001b[0m \u001b[32m━━━━━━━━━━━━━━━━━━━━\u001b[0m\u001b[37m\u001b[0m \u001b[1m0s\u001b[0m 4ms/step - binary_accuracy: 0.7563 - loss: 0.6016 - val_binary_accuracy: 0.6379 - val_loss: 0.9035\n",
      "Epoch 91/100\n",
      "\u001b[1m15/15\u001b[0m \u001b[32m━━━━━━━━━━━━━━━━━━━━\u001b[0m\u001b[37m\u001b[0m \u001b[1m0s\u001b[0m 5ms/step - binary_accuracy: 0.7277 - loss: 0.6417 - val_binary_accuracy: 0.6293 - val_loss: 0.8864\n",
      "Epoch 92/100\n",
      "\u001b[1m15/15\u001b[0m \u001b[32m━━━━━━━━━━━━━━━━━━━━\u001b[0m\u001b[37m\u001b[0m \u001b[1m0s\u001b[0m 4ms/step - binary_accuracy: 0.7484 - loss: 0.5996 - val_binary_accuracy: 0.6379 - val_loss: 0.9083\n",
      "Epoch 93/100\n",
      "\u001b[1m15/15\u001b[0m \u001b[32m━━━━━━━━━━━━━━━━━━━━\u001b[0m\u001b[37m\u001b[0m \u001b[1m0s\u001b[0m 4ms/step - binary_accuracy: 0.7307 - loss: 0.6310 - val_binary_accuracy: 0.6293 - val_loss: 0.8968\n",
      "Epoch 94/100\n",
      "\u001b[1m15/15\u001b[0m \u001b[32m━━━━━━━━━━━━━━━━━━━━\u001b[0m\u001b[37m\u001b[0m \u001b[1m0s\u001b[0m 4ms/step - binary_accuracy: 0.7484 - loss: 0.6075 - val_binary_accuracy: 0.6293 - val_loss: 0.8880\n",
      "Epoch 95/100\n",
      "\u001b[1m15/15\u001b[0m \u001b[32m━━━━━━━━━━━━━━━━━━━━\u001b[0m\u001b[37m\u001b[0m \u001b[1m0s\u001b[0m 5ms/step - binary_accuracy: 0.7409 - loss: 0.6062 - val_binary_accuracy: 0.6293 - val_loss: 0.9116\n",
      "Epoch 96/100\n",
      "\u001b[1m15/15\u001b[0m \u001b[32m━━━━━━━━━━━━━━━━━━━━\u001b[0m\u001b[37m\u001b[0m \u001b[1m0s\u001b[0m 4ms/step - binary_accuracy: 0.7302 - loss: 0.6327 - val_binary_accuracy: 0.6293 - val_loss: 0.9068\n",
      "Epoch 97/100\n",
      "\u001b[1m15/15\u001b[0m \u001b[32m━━━━━━━━━━━━━━━━━━━━\u001b[0m\u001b[37m\u001b[0m \u001b[1m0s\u001b[0m 4ms/step - binary_accuracy: 0.7510 - loss: 0.5929 - val_binary_accuracy: 0.6293 - val_loss: 0.8985\n",
      "Epoch 98/100\n",
      "\u001b[1m15/15\u001b[0m \u001b[32m━━━━━━━━━━━━━━━━━━━━\u001b[0m\u001b[37m\u001b[0m \u001b[1m0s\u001b[0m 4ms/step - binary_accuracy: 0.7380 - loss: 0.6068 - val_binary_accuracy: 0.6293 - val_loss: 0.9141\n",
      "Epoch 99/100\n",
      "\u001b[1m15/15\u001b[0m \u001b[32m━━━━━━━━━━━━━━━━━━━━\u001b[0m\u001b[37m\u001b[0m \u001b[1m0s\u001b[0m 5ms/step - binary_accuracy: 0.7321 - loss: 0.6161 - val_binary_accuracy: 0.6379 - val_loss: 0.9249\n",
      "Epoch 100/100\n",
      "\u001b[1m15/15\u001b[0m \u001b[32m━━━━━━━━━━━━━━━━━━━━\u001b[0m\u001b[37m\u001b[0m \u001b[1m0s\u001b[0m 5ms/step - binary_accuracy: 0.7369 - loss: 0.6081 - val_binary_accuracy: 0.6293 - val_loss: 0.9002\n"
     ]
    },
    {
     "data": {
      "text/plain": [
       "<keras.src.callbacks.history.History at 0x228c80d6690>"
      ]
     },
     "execution_count": 78,
     "metadata": {},
     "output_type": "execute_result"
    }
   ],
   "source": [
    "model.fit(training_dataset_x, training_dataset_y, epochs=100,  batch_size=32, validation_split=0.2, shuffle=False)"
   ]
  },
  {
   "cell_type": "code",
   "execution_count": 79,
   "id": "33b7a913",
   "metadata": {},
   "outputs": [
    {
     "name": "stdout",
     "output_type": "stream",
     "text": [
      "\u001b[1m6/6\u001b[0m \u001b[32m━━━━━━━━━━━━━━━━━━━━\u001b[0m\u001b[37m\u001b[0m \u001b[1m0s\u001b[0m 4ms/step - binary_accuracy: 0.6990 - loss: 0.8502 \n"
     ]
    },
    {
     "data": {
      "text/plain": [
       "[0.7892193794250488, 0.7135416865348816]"
      ]
     },
     "execution_count": 79,
     "metadata": {},
     "output_type": "execute_result"
    }
   ],
   "source": [
    "model.evaluate(testing_dataset_x, testing_dataset_y, batch_size=32)"
   ]
  },
  {
   "cell_type": "code",
   "execution_count": 80,
   "id": "175c51ee",
   "metadata": {},
   "outputs": [
    {
     "data": {
      "text/plain": [
       "['loss', 'compile_metrics']"
      ]
     },
     "execution_count": 80,
     "metadata": {},
     "output_type": "execute_result"
    }
   ],
   "source": [
    "model.metrics_names"
   ]
  },
  {
   "cell_type": "markdown",
   "id": "32e2160e",
   "metadata": {},
   "source": [
    "### Katmanlarda, Nöronlarda Kullanılan Aktivasyon Fonksiyonları \n",
    "\n",
    "Aktivasyon fonksiyonları isimsel girilebileceği gibi tensorflow.keras.activations modülündeki fonksiyonlar biçiminde de girilebilir.\n",
    "\n",
    "from tensorflow.keras.activations import relu\n",
    "...\n",
    "model.add(Dense(16, activation=relu, name='Hidden'))\n",
    "\n",
    "Bu modüldeki fonksiyonlar keras Tensorflow kullanılarak yazıldığı için çıktı olarak Tensor nesneleri vermektedir.\n",
    "------------------------------------------------------------------------------------------\n",
    "\n",
    "İkili sınıflandırma problemlerinde çıktı katmanında en fazla kullanılan aktivasyon fonksiyonu \"sigmoid\" isimli fonksiyondur.\n",
    "Yukarıdaki \"diabet\" örneğinde biz çıktı katmanında sigmoid fonksiyonunu kullanmıştık. İkili sınıflandırma problemlerinde\n",
    "ağın çıktı katmanında tek bir nöron bulunur ve bu nöronun da aktivasyon fonksiyonu \"sigmoid\" fonksiyonudur.\n",
    "\n",
    "Peki sigmoid nasıl bir fonksiyondur? Bu fonksiyona \"lojistik (logistic)\" fonksiyonu da denilmektedir. Matematiksel ifadesi şöyledir:\n",
    "\n",
    "y = e ** x / (1 + e ** x)\n",
    "\n",
    "Burada e 2.71828... biçiminde irrasyonel e sayısıdır. Yukarıdaki kesrin pay ve paydası e ** x ile çarpılırsa fonksiyon aşağıdaki\n",
    "gibi de ifade edilebilir:\n",
    "\n",
    "y = 1 / (1 + e ** -x)\n",
    "Sigmoid eğrisi x = 0 için 0.5 değerini veren x pozitif yönde arttıkça 1 değerine yaklaşan, x negatif yönde arttıkça 0\n",
    "değerine yaklaşan S şeklinde bir eğridir. Sigmoid fonksiyonu (0, 1) arasında bir değer vermektedir. Bu nedenle çıktı katmanındaki\n",
    "nöronun aktivasyon fonksiyonu sigmoid ise ağdan sonuç olarak 0 ile 1 arasında noktalı bir sayı elde edilir. İşte biz de bu sayı\n",
    "0.5'ten büyükse onu 1 olarak, 0.5'ten küçükse 0 olarak değerlendiririz. Tabii aslında çıktı bir olasılık da belirtmektedir.\n",
    "Yani ağın çıktısı 1'e ne kadar yaklaşmışsa o kestirimin 1 olma olasılığı o kadar yüksek, ağın çıktısı 0'a ne kadar yaklaşmışsa\n",
    "o kestirimin 0 olma olasılığı o kadar yüksek olur.\n",
    "\n",
    "Sigmoid eğrisi aşağıdaki gibi çizilebilir.\n",
    "------------------------------------------------------------------------------------------\n",
    "\n",
    "import numpy as np\n",
    "import matplotlib.pyplot as plt\n",
    "\n",
    "x = np.linspace(-10, 10, 1000)\n",
    "y = np.e ** x / (1 + np.e ** x)\n",
    "\n",
    "plt.title('Sigmoid (Logistic) Function', fontsize=14, pad=20, fontweight='bold')\n",
    "axis = plt.gca()\n",
    "axis.spines['left'].set_position('center')\n",
    "axis.spines['bottom'].set_position('center')\n",
    "axis.spines['top'].set_color(None)\n",
    "axis.spines['right'].set_color(None)\n",
    "\n",
    "axis.set_ylim(-1, 1)\n",
    "\n",
    "plt.plot(x, y)\n",
    "plt.show()\n",
    "\n",
    "Aşağıda da sigmoid fonksiyonun birinci türevi alınmıştır. Sigmoid fonksiyonunun birinci türevi Gauss eğrisine benzemektedir.\n",
    "------------------------------------------------------------------------------------------\n",
    "\n",
    "import sympy\n",
    "\n",
    "x = sympy.Symbol('x')\n",
    "fx = sympy.E ** x / (1 + sympy.E ** x)\n",
    "dx = sympy.diff(fx, x)\n",
    "\n",
    "from sympy import init_printing\n",
    "\n",
    "init_printing()\n",
    "\n",
    "print(dx)\n",
    "\n",
    "import numpy as np\n",
    "\n",
    "np.linspace(-10, 10, 1000)\n",
    "pdx = sympy.lambdify(x, dx)\n",
    "\n",
    "x = np.linspace(-10, 10, 1000)\n",
    "y = pdx(x)\n",
    "\n",
    "import matplotlib.pyplot as plt\n",
    "\n",
    "plt.title('First Derivative of Sigmoid Function', fontsize=14, pad=20, fontweight='bold')\n",
    "axis = plt.gca()\n",
    "axis.spines['left'].set_position('center')\n",
    "axis.spines['bottom'].set_position('center')\n",
    "axis.spines['top'].set_color(None)\n",
    "axis.spines['right'].set_color(None)\n",
    "\n",
    "axis.set_ylim(-1, 1)\n",
    "\n",
    "plt.plot(x, y)\n",
    "plt.show()\n"
   ]
  },
  {
   "cell_type": "markdown",
   "id": "70c273bb",
   "metadata": {},
   "source": [
    "**Diger cok kullanılan bir aktivasyon fonksiyonu da \"hiperbolic tangent\" fonksiyonudur. Bu fonksiyon \"tanh\" ismiyle Keras'ta kullanılabilmektedir. Fonksiyonun matematiksel ifadesi şöyledir:**\n",
    "\n",
    "\\[ f(x) = (e^{**} (2 * x) - 1) / (e^{**} (2 * x) + 1) \\]\n",
    "\n",
    "**Tanh fonksiyonu adeta sigmoid fonksiyonunun (-1, 1) arası değer alan biçimi gibidir. Fonksiyon yine S şekli biçimindedir.**\n",
    "\n",
    "**Tanh fonksiyonu saklı katmanlarda da bazen çıktı katmanlarında da kullanılabilmektedir. Eskiden bu fonksiyon çok yoğun kullanılıyordu. Ancak artık saklı katmanlarda en çok ReLU fonksiyonu tercih edilmektedir.**  \n",
    "\n",
    "**Fonksiyonun grafiğini aşağıdaki gibi çizdirebiliriz:**\n",
    "\n",
    "```python\n",
    "import numpy as np  \n",
    "import matplotlib.pyplot as plt  \n",
    "\n",
    "x = np.linspace(-10, 10, 1000)  \n",
    "y = (np.e^{**} (2 * x) - 1) / (np.e^{**} (2 * x) + 1)  \n",
    "\n",
    "plt.title('Hiperbolic Tangent (tanh) Function', fontsize=14, pad=20, fontweight='bold')  \n",
    "axis = plt.gca()  \n",
    "axis.spines['left'].set_position('center')  \n",
    "axis.spines['bottom'].set_position('center')  \n",
    "axis.spines['top'].set_color(None)  \n",
    "axis.spines['right'].set_color(None)  \n",
    "\n",
    "axis.set_ylim(-1, 1)  \n",
    "\n",
    "plt.plot(x, y)\n",
    "```\n",
    "\n",
    "---\n",
    "\n",
    "**Diğer çok karşılaşılan bir aktivasyon fonksiyonu da \"softmax\" isimli fonksiyondur. Softmax fonksiyonu çok sınıflı sınıflandırma problemlerinde çıktı katmanlarında kullanılmaktadır. Örneğin bir resmin \"elma\", \"armut\", \"kayısı\", \"şeftali\", \"karpuz\" resimlerinden hangisi olduğunu anlamak için kullanılan sınıflandırma modeli çok sınıflı bir sınıflandırma modelidir. Buna istatistikte \"çok sınıflı lojistik regresyon (multinomial logistic regression)\" da denilmektedir. Bu tür problemlerde sinir ağında sınıf sayısı kadar nöron bulundurulur. Örneğin yukarıdaki resim sınıflandırma probleminde ağın çıktısında 5 nöron bulunmalıdır.**\n",
    "\n",
    "**Ağın çıktı katmanındaki tüm nöronların aktivasyon fonksiyonları softmax yapılırsa tüm çıktı katmanındaki nöronların çıktı değerlerinin toplamı her zaman 1 olur. Böylece adeta çıktı nöronlarının çıktı değerleri ilgili sınıfın olasılığını belirtmektedir. Biz de toplamı 1 olan çıktıların en yüksek değerine bakarız ve sınıflandırmanın o sınıfı kestirdiğini düşünürüz. Örneğin yukarıdaki resim sınıflandırmasında çıktı katmanında 5 nöron olacaktır. Bu nöronların çıktılarının toplamı da 1 olacaktır. Aşağıdaki gibi bir kestirim sonucu elde edilmiş olsun:**\n",
    "\n",
    "```\n",
    "Elma Nöronunun Çıktısı --> 0.2\n",
    "Armut Nöronunun Çıktısı --> 0.2\n",
    "Kayısı Nöronunun Çıktısı --> 0.3\n",
    "Şeftali Nöronunun Çıktısı --> 0.2\n",
    "Karpuz Nöronunun Çıktısı --> 0.2\n",
    "```\n",
    "\n",
    "**Burada en büyük çıktı 0.3 olan Kayısı nöronuna ilişkindir. O halde biz bu kestirimin \"kayısı\" olduğuna karar veririz. Softmax fonksiyonu şöyle hesaplanmaktadır. Elimizde aşağıdaki gibi x değerleri olsun:**\n",
    "\n",
    "```python\n",
    ">>> import numpy as np\n",
    ">>> x = np.array([3, 6, 4, 1, 7])\n",
    ">>> x\n",
    "array([3, 6, 4, 1, 7])\n",
    "```\n",
    "\n",
    "**Bu değerlerin softmax değerleri `np.e ** x / np.sum(e ** x)` biçimindedir.**\n",
    "\n",
    "```python\n",
    ">>> sm = np.e ** x / np.sum(np.e ** x)\n",
    ">>> sm\n",
    "array([0.0127328 , 0.25574518, 0.03461135, 0.0017232 , 0.69518747])\n",
    ">>> np.sum(sm)\n",
    "1.0\n",
    "```\n",
    "\n",
    "**Keras aslında çıktı katmanlarındaki tüm softmax aktivasyon fonksiyonlarının bir grup oluşturduğunu varsayar. Sonra girdilerle ağırlık değerlerini çarpıp bias değeriyle toplayarak yukarıdaki gibi bir x vektörü elde eder. Sonra da yukarıdaki işlemi uygular. Başka bir deyişle çıktı katmanındaki softmax aktivasyon fonksiyonuna sahip olan nöronlar bir grup olarak değerlendirilmektedir.**\n",
    "\n",
    "---\n",
    "\n",
    "**Diğer çok kullanılan aktivasyon fonksiyonlarından biri de \"linear\" aktivasyon fonksiyonudur. Aslında bu fonksiyon y = x fonksiyonudur. Yani girdi ile aynı değeri üretmektedir. Başka bir deyişle bir şey yapmayan bir fonksiyondur. Peki böyle bir aktivasyon fonksiyonunun ne anlamı olabilir? Bu aktivasyon fonksiyonu \"lojistik olmayan regresyon problemlerinde\" çıktı katmanında kullanılmaktadır.**  \n",
    "\n",
    "**Lojistik olmayan regresyon problemleri çıktı olarak bir sınıf bilgisi değil bir sayı bulmaya çalışan problemlerdir. Örneğin bir evin fiyatı, bir otomobilin mil başına yaktığı yakıt miktarı gibi problemler lojistik olmayan regresyon problemleridir. Bu aktivasyon fonksiyonu Keras'ta \"linear\" ismiyle kullanılmaktadır.**"
   ]
  },
  {
   "cell_type": "markdown",
   "id": "6c5f0e9b",
   "metadata": {},
   "source": [
    "#### Relu Function\n"
   ]
  },
  {
   "cell_type": "code",
   "execution_count": 82,
   "id": "934ef876",
   "metadata": {},
   "outputs": [],
   "source": [
    "import numpy as np \n",
    "import matplotlib.pyplot as plt\n",
    "\n",
    "x = np.linspace(-10, 10, 1000)\n",
    "y = np.maximum(x, 0)"
   ]
  },
  {
   "cell_type": "code",
   "execution_count": 84,
   "id": "7bc4a85e",
   "metadata": {},
   "outputs": [
    {
     "data": {
      "image/png": "[encoded data removed]",
      "text/plain": [
       "<Figure size 640x480 with 1 Axes>"
      ]
     },
     "metadata": {},
     "output_type": "display_data"
    }
   ],
   "source": [
    "plt.title(\"Relu Function\", fontsize=14, pad=20, fontweight='bold')\n",
    "\n",
    "axis = plt.gca()\n",
    "axis.spines['left'].set_position('center')\n",
    "axis.spines['bottom'].set_position('center')\n",
    "axis.spines['right'].set_color(None)\n",
    "axis.spines['top'].set_color(None)\n",
    "axis.set_ylim(-10, 10)\n",
    "\n",
    "plt.plot(x, y)\n",
    "plt.show()"
   ]
  },
  {
   "cell_type": "code",
   "execution_count": null,
   "id": "030ba8bd",
   "metadata": {},
   "outputs": [],
   "source": []
  },
  {
   "cell_type": "code",
   "execution_count": null,
   "id": "a54f61eb",
   "metadata": {},
   "outputs": [],
   "source": []
  },
  {
   "cell_type": "markdown",
   "id": "54bf7402",
   "metadata": {},
   "source": [
    "### Loss Fonksiyonları"
   ]
  }
 ],
 "metadata": {
  "kernelspec": {
   "display_name": "Python 3",
   "language": "python",
   "name": "python3"
  },
  "language_info": {
   "codemirror_mode": {
    "name": "ipython",
    "version": 3
   },
   "file_extension": ".py",
   "mimetype": "text/x-python",
   "name": "python",
   "nbconvert_exporter": "python",
   "pygments_lexer": "ipython3",
   "version": "3.11.9"
  }
 },
 "nbformat": 4,
 "nbformat_minor": 5
}
