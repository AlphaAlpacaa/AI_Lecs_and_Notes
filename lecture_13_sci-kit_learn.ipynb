{
 "cells": [
  {
   "cell_type": "code",
   "execution_count": 1,
   "metadata": {},
   "outputs": [],
   "source": [
    "from sklearn.impute import SimpleImputer\n",
    "import pandas as pd\n",
    "import numpy as np"
   ]
  },
  {
   "cell_type": "code",
   "execution_count": 3,
   "metadata": {},
   "outputs": [],
   "source": [
    "df = pd.read_csv(\"datasets/melb_data.csv\")"
   ]
  },
  {
   "cell_type": "code",
   "execution_count": 5,
   "metadata": {},
   "outputs": [],
   "source": [
    "si = SimpleImputer(strategy='mean')\n",
    "# si.fit(df[['Car', \"BuildingArea\"]])\n",
    "# df[['Car', \"BuildingArea\"]] = si.transform(df[['Car', \"BuildingArea\"]])\n",
    "df[['Car', \"BuildingArea\"]] = np.round(si.fit_transform(df[['Car', \"BuildingArea\"]]))"
   ]
  },
  {
   "cell_type": "code",
   "execution_count": 6,
   "metadata": {},
   "outputs": [],
   "source": [
    "si.set_params(strategy='most_frequent')\n",
    "# si.fit(df[['YearBuilt', \"CouncilArea\"]])\n",
    "# df[['YearBuilt', \"CouncilArea\"]] = si.transform(df[['YearBuilt', \"CouncilArea\"]])\n",
    "df[['YearBuilt', \"CouncilArea\"]] = si.fit_transform(df[['YearBuilt', \"CouncilArea\"]])"
   ]
  },
  {
   "cell_type": "code",
   "execution_count": null,
   "metadata": {},
   "outputs": [],
   "source": []
  },
  {
   "cell_type": "code",
   "execution_count": null,
   "metadata": {},
   "outputs": [],
   "source": [
    "import pandas as pd"
   ]
  },
  {
   "cell_type": "code",
   "execution_count": 9,
   "metadata": {},
   "outputs": [
    {
     "data": {
      "text/html": [
       "<div>\n",
       "<style scoped>\n",
       "    .dataframe tbody tr th:only-of-type {\n",
       "        vertical-align: middle;\n",
       "    }\n",
       "\n",
       "    .dataframe tbody tr th {\n",
       "        vertical-align: top;\n",
       "    }\n",
       "\n",
       "    .dataframe thead th {\n",
       "        text-align: right;\n",
       "    }\n",
       "</style>\n",
       "<table border=\"1\" class=\"dataframe\">\n",
       "  <thead>\n",
       "    <tr style=\"text-align: right;\">\n",
       "      <th></th>\n",
       "      <th>Adı Soyadı</th>\n",
       "      <th>Kilo</th>\n",
       "      <th>Boy</th>\n",
       "      <th>Yaş</th>\n",
       "      <th>Cinsiyet</th>\n",
       "      <th>Renk Tercihi</th>\n",
       "    </tr>\n",
       "  </thead>\n",
       "  <tbody>\n",
       "    <tr>\n",
       "      <th>0</th>\n",
       "      <td>Sacit Bulut</td>\n",
       "      <td>78</td>\n",
       "      <td>172</td>\n",
       "      <td>34</td>\n",
       "      <td>Erkek</td>\n",
       "      <td>Kırmızı</td>\n",
       "    </tr>\n",
       "    <tr>\n",
       "      <th>1</th>\n",
       "      <td>Ayşe Er</td>\n",
       "      <td>67</td>\n",
       "      <td>168</td>\n",
       "      <td>45</td>\n",
       "      <td>Kadın</td>\n",
       "      <td>Yeşil</td>\n",
       "    </tr>\n",
       "    <tr>\n",
       "      <th>2</th>\n",
       "      <td>Ahmet San</td>\n",
       "      <td>85</td>\n",
       "      <td>182</td>\n",
       "      <td>32</td>\n",
       "      <td>Erkek</td>\n",
       "      <td>Kırmızı</td>\n",
       "    </tr>\n",
       "    <tr>\n",
       "      <th>3</th>\n",
       "      <td>Macit Şen</td>\n",
       "      <td>98</td>\n",
       "      <td>192</td>\n",
       "      <td>65</td>\n",
       "      <td>Erkek</td>\n",
       "      <td>Mavi</td>\n",
       "    </tr>\n",
       "    <tr>\n",
       "      <th>4</th>\n",
       "      <td>Talat Demir</td>\n",
       "      <td>85</td>\n",
       "      <td>181</td>\n",
       "      <td>49</td>\n",
       "      <td>Erkek</td>\n",
       "      <td>Yeşil</td>\n",
       "    </tr>\n",
       "    <tr>\n",
       "      <th>5</th>\n",
       "      <td>Sibel Ünlü</td>\n",
       "      <td>72</td>\n",
       "      <td>172</td>\n",
       "      <td>34</td>\n",
       "      <td>Kadın</td>\n",
       "      <td>Mavi</td>\n",
       "    </tr>\n",
       "    <tr>\n",
       "      <th>6</th>\n",
       "      <td>Ali Serçe</td>\n",
       "      <td>75</td>\n",
       "      <td>165</td>\n",
       "      <td>21</td>\n",
       "      <td>Erkek</td>\n",
       "      <td>Yeşil</td>\n",
       "    </tr>\n",
       "  </tbody>\n",
       "</table>\n",
       "</div>"
      ],
      "text/plain": [
       "    Adı Soyadı  Kilo  Boy  Yaş Cinsiyet Renk Tercihi\n",
       "0  Sacit Bulut    78  172   34    Erkek      Kırmızı\n",
       "1      Ayşe Er    67  168   45    Kadın        Yeşil\n",
       "2    Ahmet San    85  182   32    Erkek      Kırmızı\n",
       "3    Macit Şen    98  192   65    Erkek         Mavi\n",
       "4  Talat Demir    85  181   49    Erkek        Yeşil\n",
       "5   Sibel Ünlü    72  172   34    Kadın         Mavi\n",
       "6    Ali Serçe    75  165   21    Erkek        Yeşil"
      ]
     },
     "execution_count": 9,
     "metadata": {},
     "output_type": "execute_result"
    }
   ],
   "source": [
    "df = pd.read_csv(\"datasets/test.csv\")\n",
    "df"
   ]
  },
  {
   "cell_type": "code",
   "execution_count": 10,
   "metadata": {},
   "outputs": [
    {
     "name": "stdout",
     "output_type": "stream",
     "text": [
      "    Adı Soyadı  Kilo  Boy  Yaş Cinsiyet Renk Tercihi\n",
      "0  Sacit Bulut    78  172   34    Erkek      Kırmızı\n",
      "1      Ayşe Er    67  168   45    Kadın        Yeşil\n",
      "2    Ahmet San    85  182   32    Erkek      Kırmızı\n",
      "3    Macit Şen    98  192   65    Erkek         Mavi\n",
      "4  Talat Demir    85  181   49    Erkek        Yeşil\n",
      "5   Sibel Ünlü    72  172   34    Kadın         Mavi\n",
      "6    Ali Serçe    75  165   21    Erkek        Yeşil\n",
      "\n",
      "    Adı Soyadı  Kilo  Boy  Yaş Cinsiyet Renk Tercihi\n",
      "0  Sacit Bulut    78  172   34        0            0\n",
      "1      Ayşe Er    67  168   45        1            1\n",
      "2    Ahmet San    85  182   32        0            0\n",
      "3    Macit Şen    98  192   65        0            2\n",
      "4  Talat Demir    85  181   49        0            1\n",
      "5   Sibel Ünlü    72  172   34        1            2\n",
      "6    Ali Serçe    75  165   21        0            1\n",
      "\n"
     ]
    }
   ],
   "source": [
    "def label_encode(df, colnames):\n",
    "    for colname in colnames:\n",
    "        labels = df[colname].unique()  \n",
    "        for index, label in enumerate(labels):\n",
    "            df.loc[df[colname] == label, colname] = index\n",
    "\n",
    "print(df, end='\\n\\n')\n",
    "label_encode(df, ['Renk Tercihi', 'Cinsiyet'])\n",
    "print(df, end='\\n\\n')"
   ]
  },
  {
   "cell_type": "code",
   "execution_count": null,
   "metadata": {},
   "outputs": [],
   "source": []
  },
  {
   "cell_type": "code",
   "execution_count": 11,
   "metadata": {},
   "outputs": [],
   "source": [
    "import pandas as pd\n",
    "from sklearn.preprocessing import LabelEncoder"
   ]
  },
  {
   "cell_type": "code",
   "execution_count": 13,
   "metadata": {},
   "outputs": [],
   "source": [
    "df = pd.read_csv('datasets/test.csv')"
   ]
  },
  {
   "cell_type": "code",
   "execution_count": 14,
   "metadata": {},
   "outputs": [
    {
     "data": {
      "text/html": [
       "<div>\n",
       "<style scoped>\n",
       "    .dataframe tbody tr th:only-of-type {\n",
       "        vertical-align: middle;\n",
       "    }\n",
       "\n",
       "    .dataframe tbody tr th {\n",
       "        vertical-align: top;\n",
       "    }\n",
       "\n",
       "    .dataframe thead th {\n",
       "        text-align: right;\n",
       "    }\n",
       "</style>\n",
       "<table border=\"1\" class=\"dataframe\">\n",
       "  <thead>\n",
       "    <tr style=\"text-align: right;\">\n",
       "      <th></th>\n",
       "      <th>Adı Soyadı</th>\n",
       "      <th>Kilo</th>\n",
       "      <th>Boy</th>\n",
       "      <th>Yaş</th>\n",
       "      <th>Cinsiyet</th>\n",
       "      <th>Renk Tercihi</th>\n",
       "    </tr>\n",
       "  </thead>\n",
       "  <tbody>\n",
       "    <tr>\n",
       "      <th>0</th>\n",
       "      <td>Sacit Bulut</td>\n",
       "      <td>78</td>\n",
       "      <td>172</td>\n",
       "      <td>34</td>\n",
       "      <td>0</td>\n",
       "      <td>0</td>\n",
       "    </tr>\n",
       "    <tr>\n",
       "      <th>1</th>\n",
       "      <td>Ayşe Er</td>\n",
       "      <td>67</td>\n",
       "      <td>168</td>\n",
       "      <td>45</td>\n",
       "      <td>1</td>\n",
       "      <td>2</td>\n",
       "    </tr>\n",
       "    <tr>\n",
       "      <th>2</th>\n",
       "      <td>Ahmet San</td>\n",
       "      <td>85</td>\n",
       "      <td>182</td>\n",
       "      <td>32</td>\n",
       "      <td>0</td>\n",
       "      <td>0</td>\n",
       "    </tr>\n",
       "    <tr>\n",
       "      <th>3</th>\n",
       "      <td>Macit Şen</td>\n",
       "      <td>98</td>\n",
       "      <td>192</td>\n",
       "      <td>65</td>\n",
       "      <td>0</td>\n",
       "      <td>1</td>\n",
       "    </tr>\n",
       "    <tr>\n",
       "      <th>4</th>\n",
       "      <td>Talat Demir</td>\n",
       "      <td>85</td>\n",
       "      <td>181</td>\n",
       "      <td>49</td>\n",
       "      <td>0</td>\n",
       "      <td>2</td>\n",
       "    </tr>\n",
       "    <tr>\n",
       "      <th>5</th>\n",
       "      <td>Sibel Ünlü</td>\n",
       "      <td>72</td>\n",
       "      <td>172</td>\n",
       "      <td>34</td>\n",
       "      <td>1</td>\n",
       "      <td>1</td>\n",
       "    </tr>\n",
       "    <tr>\n",
       "      <th>6</th>\n",
       "      <td>Ali Serçe</td>\n",
       "      <td>75</td>\n",
       "      <td>165</td>\n",
       "      <td>21</td>\n",
       "      <td>0</td>\n",
       "      <td>2</td>\n",
       "    </tr>\n",
       "  </tbody>\n",
       "</table>\n",
       "</div>"
      ],
      "text/plain": [
       "    Adı Soyadı  Kilo  Boy  Yaş  Cinsiyet  Renk Tercihi\n",
       "0  Sacit Bulut    78  172   34         0             0\n",
       "1      Ayşe Er    67  168   45         1             2\n",
       "2    Ahmet San    85  182   32         0             0\n",
       "3    Macit Şen    98  192   65         0             1\n",
       "4  Talat Demir    85  181   49         0             2\n",
       "5   Sibel Ünlü    72  172   34         1             1\n",
       "6    Ali Serçe    75  165   21         0             2"
      ]
     },
     "execution_count": 14,
     "metadata": {},
     "output_type": "execute_result"
    }
   ],
   "source": [
    "le = LabelEncoder()\n",
    "df['Cinsiyet'] = le.fit_transform(df['Cinsiyet'])\n",
    "df['Renk Tercihi'] = le.fit_transform(df['Renk Tercihi'])\n",
    "\n",
    "df"
   ]
  },
  {
   "cell_type": "code",
   "execution_count": null,
   "metadata": {},
   "outputs": [],
   "source": []
  },
  {
   "cell_type": "code",
   "execution_count": null,
   "metadata": {},
   "outputs": [],
   "source": [
    "import pandas as pd\n",
    "from sklearn.preprocessing import LabelEncoder\n",
    "import numpy as np\n",
    "\n",
    "df = pd.read_csv('test.csv')\n",
    "print(df, end='\\n\\n')\n",
    "\n",
    "le = LabelEncoder()\n",
    "df['Renk Tercihi'] = le.fit_transform(df['Renk Tercihi'])\n",
    "df['Cinsiyet'] = le.fit_transform(df['Cinsiyet'])\n",
    "\n",
    "print(df)\n",
    "\n",
    "le = LabelEncoder()\n",
    "le.fit(df['Renk Tercihi'])\n",
    "result = le.inverse_transform(np.array([2, 1, 1, 1, 2, 2, 1, 0]))\n",
    "print(result)\n"
   ]
  }
 ],
 "metadata": {
  "kernelspec": {
   "display_name": "Python 3",
   "language": "python",
   "name": "python3"
  },
  "language_info": {
   "codemirror_mode": {
    "name": "ipython",
    "version": 3
   },
   "file_extension": ".py",
   "mimetype": "text/x-python",
   "name": "python",
   "nbconvert_exporter": "python",
   "pygments_lexer": "ipython3",
   "version": "3.12.4"
  }
 },
 "nbformat": 4,
 "nbformat_minor": 2
}
