{
 "cells": [
  {
   "cell_type": "markdown",
   "metadata": {},
   "source": [
    "Kategori sayısı aşırı fazla ise kullanılabilecek yöntemlerden biri \"binary encoding\" yöntemidir. Bu yöntemde kategorilerin sayısı n tane olmak üzere ceil(log2 n) sütun oluşturulmaktadır. Sonra her kategoriye 0'dan itibaren bir sayı karşılık düşünülür. Sonra da bu sayı için ikilik sistemde kodlama yapılır."
   ]
  },
  {
   "cell_type": "code",
   "execution_count": 26,
   "metadata": {},
   "outputs": [],
   "source": [
    "import pandas as pd"
   ]
  },
  {
   "cell_type": "code",
   "execution_count": 27,
   "metadata": {},
   "outputs": [],
   "source": [
    "df = pd.read_csv('datasets/test_14.csv')"
   ]
  },
  {
   "cell_type": "code",
   "execution_count": 28,
   "metadata": {},
   "outputs": [],
   "source": [
    "from category_encoders.binary import BinaryEncoder"
   ]
  },
  {
   "cell_type": "code",
   "execution_count": 29,
   "metadata": {},
   "outputs": [],
   "source": [
    "be = BinaryEncoder()"
   ]
  },
  {
   "cell_type": "code",
   "execution_count": 30,
   "metadata": {},
   "outputs": [],
   "source": [
    "transformed_data = be.fit_transform(df['Meslek'])\n",
    "dropped_df = df.drop('Meslek', axis=1, inplace=True)\n",
    "dropped_df"
   ]
  },
  {
   "cell_type": "code",
   "execution_count": 32,
   "metadata": {},
   "outputs": [
    {
     "data": {
      "text/html": [
       "<div>\n",
       "<style scoped>\n",
       "    .dataframe tbody tr th:only-of-type {\n",
       "        vertical-align: middle;\n",
       "    }\n",
       "\n",
       "    .dataframe tbody tr th {\n",
       "        vertical-align: top;\n",
       "    }\n",
       "\n",
       "    .dataframe thead th {\n",
       "        text-align: right;\n",
       "    }\n",
       "</style>\n",
       "<table border=\"1\" class=\"dataframe\">\n",
       "  <thead>\n",
       "    <tr style=\"text-align: right;\">\n",
       "      <th></th>\n",
       "      <th>Adı Soyadı</th>\n",
       "      <th>Kilo</th>\n",
       "      <th>Boy</th>\n",
       "      <th>Yaş</th>\n",
       "      <th>Cinsiyet</th>\n",
       "      <th>Renk Tercihi</th>\n",
       "      <th>Eğitim Durumu</th>\n",
       "      <th>Meslek_0</th>\n",
       "      <th>Meslek_1</th>\n",
       "    </tr>\n",
       "  </thead>\n",
       "  <tbody>\n",
       "    <tr>\n",
       "      <th>0</th>\n",
       "      <td>Sacit Bulut</td>\n",
       "      <td>78</td>\n",
       "      <td>172</td>\n",
       "      <td>34</td>\n",
       "      <td>Erkek</td>\n",
       "      <td>Kırmızı</td>\n",
       "      <td>Lisans</td>\n",
       "      <td>0</td>\n",
       "      <td>1</td>\n",
       "    </tr>\n",
       "    <tr>\n",
       "      <th>1</th>\n",
       "      <td>Ayşe Er</td>\n",
       "      <td>67</td>\n",
       "      <td>168</td>\n",
       "      <td>45</td>\n",
       "      <td>Kadın</td>\n",
       "      <td>Yeşil</td>\n",
       "      <td>Lisans</td>\n",
       "      <td>1</td>\n",
       "      <td>0</td>\n",
       "    </tr>\n",
       "    <tr>\n",
       "      <th>2</th>\n",
       "      <td>Ahmet San</td>\n",
       "      <td>85</td>\n",
       "      <td>182</td>\n",
       "      <td>32</td>\n",
       "      <td>Erkek</td>\n",
       "      <td>Kırmızı</td>\n",
       "      <td>İlkokul</td>\n",
       "      <td>1</td>\n",
       "      <td>1</td>\n",
       "    </tr>\n",
       "    <tr>\n",
       "      <th>3</th>\n",
       "      <td>Macit Şen</td>\n",
       "      <td>98</td>\n",
       "      <td>192</td>\n",
       "      <td>65</td>\n",
       "      <td>Erkek</td>\n",
       "      <td>Mavi</td>\n",
       "      <td>Ortaokul</td>\n",
       "      <td>0</td>\n",
       "      <td>1</td>\n",
       "    </tr>\n",
       "    <tr>\n",
       "      <th>4</th>\n",
       "      <td>Talat Demir</td>\n",
       "      <td>85</td>\n",
       "      <td>181</td>\n",
       "      <td>49</td>\n",
       "      <td>Erkek</td>\n",
       "      <td>Yeşil</td>\n",
       "      <td>Lisans</td>\n",
       "      <td>1</td>\n",
       "      <td>1</td>\n",
       "    </tr>\n",
       "    <tr>\n",
       "      <th>5</th>\n",
       "      <td>Sibel Ünlü</td>\n",
       "      <td>72</td>\n",
       "      <td>172</td>\n",
       "      <td>34</td>\n",
       "      <td>Kadın</td>\n",
       "      <td>Mavi</td>\n",
       "      <td>Yüksek Lisans</td>\n",
       "      <td>0</td>\n",
       "      <td>1</td>\n",
       "    </tr>\n",
       "    <tr>\n",
       "      <th>6</th>\n",
       "      <td>Ali Serçe</td>\n",
       "      <td>75</td>\n",
       "      <td>165</td>\n",
       "      <td>21</td>\n",
       "      <td>Erkek</td>\n",
       "      <td>Yeşil</td>\n",
       "      <td>İlkokul</td>\n",
       "      <td>1</td>\n",
       "      <td>0</td>\n",
       "    </tr>\n",
       "  </tbody>\n",
       "</table>\n",
       "</div>"
      ],
      "text/plain": [
       "    Adı Soyadı  Kilo  Boy  Yaş Cinsiyet Renk Tercihi  Eğitim Durumu  Meslek_0  \\\n",
       "0  Sacit Bulut    78  172   34    Erkek      Kırmızı         Lisans         0   \n",
       "1      Ayşe Er    67  168   45    Kadın        Yeşil         Lisans         1   \n",
       "2    Ahmet San    85  182   32    Erkek      Kırmızı        İlkokul         1   \n",
       "3    Macit Şen    98  192   65    Erkek         Mavi       Ortaokul         0   \n",
       "4  Talat Demir    85  181   49    Erkek        Yeşil         Lisans         1   \n",
       "5   Sibel Ünlü    72  172   34    Kadın         Mavi  Yüksek Lisans         0   \n",
       "6    Ali Serçe    75  165   21    Erkek        Yeşil        İlkokul         1   \n",
       "\n",
       "   Meslek_1  \n",
       "0         1  \n",
       "1         0  \n",
       "2         1  \n",
       "3         1  \n",
       "4         1  \n",
       "5         1  \n",
       "6         0  "
      ]
     },
     "execution_count": 32,
     "metadata": {},
     "output_type": "execute_result"
    }
   ],
   "source": [
    "transformed_df = pd.concat([df, transformed_data], axis=1)\n",
    "transformed_df"
   ]
  },
  {
   "cell_type": "code",
   "execution_count": 33,
   "metadata": {},
   "outputs": [
    {
     "data": {
      "text/html": [
       "<div>\n",
       "<style scoped>\n",
       "    .dataframe tbody tr th:only-of-type {\n",
       "        vertical-align: middle;\n",
       "    }\n",
       "\n",
       "    .dataframe tbody tr th {\n",
       "        vertical-align: top;\n",
       "    }\n",
       "\n",
       "    .dataframe thead th {\n",
       "        text-align: right;\n",
       "    }\n",
       "</style>\n",
       "<table border=\"1\" class=\"dataframe\">\n",
       "  <thead>\n",
       "    <tr style=\"text-align: right;\">\n",
       "      <th></th>\n",
       "      <th>Adı Soyadı</th>\n",
       "      <th>Kilo</th>\n",
       "      <th>Boy</th>\n",
       "      <th>Yaş</th>\n",
       "      <th>Cinsiyet</th>\n",
       "      <th>Renk Tercihi</th>\n",
       "      <th>Eğitim Durumu</th>\n",
       "    </tr>\n",
       "  </thead>\n",
       "  <tbody>\n",
       "    <tr>\n",
       "      <th>0</th>\n",
       "      <td>Sacit Bulut</td>\n",
       "      <td>78</td>\n",
       "      <td>172</td>\n",
       "      <td>34</td>\n",
       "      <td>Erkek</td>\n",
       "      <td>Kırmızı</td>\n",
       "      <td>Lisans</td>\n",
       "    </tr>\n",
       "    <tr>\n",
       "      <th>1</th>\n",
       "      <td>Ayşe Er</td>\n",
       "      <td>67</td>\n",
       "      <td>168</td>\n",
       "      <td>45</td>\n",
       "      <td>Kadın</td>\n",
       "      <td>Yeşil</td>\n",
       "      <td>Lisans</td>\n",
       "    </tr>\n",
       "    <tr>\n",
       "      <th>2</th>\n",
       "      <td>Ahmet San</td>\n",
       "      <td>85</td>\n",
       "      <td>182</td>\n",
       "      <td>32</td>\n",
       "      <td>Erkek</td>\n",
       "      <td>Kırmızı</td>\n",
       "      <td>İlkokul</td>\n",
       "    </tr>\n",
       "    <tr>\n",
       "      <th>3</th>\n",
       "      <td>Macit Şen</td>\n",
       "      <td>98</td>\n",
       "      <td>192</td>\n",
       "      <td>65</td>\n",
       "      <td>Erkek</td>\n",
       "      <td>Mavi</td>\n",
       "      <td>Ortaokul</td>\n",
       "    </tr>\n",
       "    <tr>\n",
       "      <th>4</th>\n",
       "      <td>Talat Demir</td>\n",
       "      <td>85</td>\n",
       "      <td>181</td>\n",
       "      <td>49</td>\n",
       "      <td>Erkek</td>\n",
       "      <td>Yeşil</td>\n",
       "      <td>Lisans</td>\n",
       "    </tr>\n",
       "    <tr>\n",
       "      <th>5</th>\n",
       "      <td>Sibel Ünlü</td>\n",
       "      <td>72</td>\n",
       "      <td>172</td>\n",
       "      <td>34</td>\n",
       "      <td>Kadın</td>\n",
       "      <td>Mavi</td>\n",
       "      <td>Yüksek Lisans</td>\n",
       "    </tr>\n",
       "    <tr>\n",
       "      <th>6</th>\n",
       "      <td>Ali Serçe</td>\n",
       "      <td>75</td>\n",
       "      <td>165</td>\n",
       "      <td>21</td>\n",
       "      <td>Erkek</td>\n",
       "      <td>Yeşil</td>\n",
       "      <td>İlkokul</td>\n",
       "    </tr>\n",
       "  </tbody>\n",
       "</table>\n",
       "</div>"
      ],
      "text/plain": [
       "    Adı Soyadı  Kilo  Boy  Yaş Cinsiyet Renk Tercihi  Eğitim Durumu\n",
       "0  Sacit Bulut    78  172   34    Erkek      Kırmızı         Lisans\n",
       "1      Ayşe Er    67  168   45    Kadın        Yeşil         Lisans\n",
       "2    Ahmet San    85  182   32    Erkek      Kırmızı        İlkokul\n",
       "3    Macit Şen    98  192   65    Erkek         Mavi       Ortaokul\n",
       "4  Talat Demir    85  181   49    Erkek        Yeşil         Lisans\n",
       "5   Sibel Ünlü    72  172   34    Kadın         Mavi  Yüksek Lisans\n",
       "6    Ali Serçe    75  165   21    Erkek        Yeşil        İlkokul"
      ]
     },
     "execution_count": 33,
     "metadata": {},
     "output_type": "execute_result"
    }
   ],
   "source": [
    "df"
   ]
  },
  {
   "cell_type": "code",
   "execution_count": 36,
   "metadata": {},
   "outputs": [],
   "source": [
    "from sklearn.preprocessing import OneHotEncoder"
   ]
  },
  {
   "cell_type": "code",
   "execution_count": 37,
   "metadata": {},
   "outputs": [],
   "source": [
    "ohe = OneHotEncoder(sparse_output= False)"
   ]
  },
  {
   "cell_type": "code",
   "execution_count": 38,
   "metadata": {},
   "outputs": [
    {
     "data": {
      "text/html": [
       "<div>\n",
       "<style scoped>\n",
       "    .dataframe tbody tr th:only-of-type {\n",
       "        vertical-align: middle;\n",
       "    }\n",
       "\n",
       "    .dataframe tbody tr th {\n",
       "        vertical-align: top;\n",
       "    }\n",
       "\n",
       "    .dataframe thead th {\n",
       "        text-align: right;\n",
       "    }\n",
       "</style>\n",
       "<table border=\"1\" class=\"dataframe\">\n",
       "  <thead>\n",
       "    <tr style=\"text-align: right;\">\n",
       "      <th></th>\n",
       "      <th>Adı Soyadı</th>\n",
       "      <th>Kilo</th>\n",
       "      <th>Boy</th>\n",
       "      <th>Yaş</th>\n",
       "      <th>Cinsiyet</th>\n",
       "      <th>Eğitim Durumu</th>\n",
       "      <th>Renk Tercihi_Mavi</th>\n",
       "      <th>Renk Tercihi_Yeşil</th>\n",
       "    </tr>\n",
       "  </thead>\n",
       "  <tbody>\n",
       "    <tr>\n",
       "      <th>0</th>\n",
       "      <td>Sacit Bulut</td>\n",
       "      <td>78</td>\n",
       "      <td>172</td>\n",
       "      <td>34</td>\n",
       "      <td>Erkek</td>\n",
       "      <td>Lisans</td>\n",
       "      <td>False</td>\n",
       "      <td>False</td>\n",
       "    </tr>\n",
       "    <tr>\n",
       "      <th>1</th>\n",
       "      <td>Ayşe Er</td>\n",
       "      <td>67</td>\n",
       "      <td>168</td>\n",
       "      <td>45</td>\n",
       "      <td>Kadın</td>\n",
       "      <td>Lisans</td>\n",
       "      <td>False</td>\n",
       "      <td>True</td>\n",
       "    </tr>\n",
       "    <tr>\n",
       "      <th>2</th>\n",
       "      <td>Ahmet San</td>\n",
       "      <td>85</td>\n",
       "      <td>182</td>\n",
       "      <td>32</td>\n",
       "      <td>Erkek</td>\n",
       "      <td>İlkokul</td>\n",
       "      <td>False</td>\n",
       "      <td>False</td>\n",
       "    </tr>\n",
       "    <tr>\n",
       "      <th>3</th>\n",
       "      <td>Macit Şen</td>\n",
       "      <td>98</td>\n",
       "      <td>192</td>\n",
       "      <td>65</td>\n",
       "      <td>Erkek</td>\n",
       "      <td>Ortaokul</td>\n",
       "      <td>True</td>\n",
       "      <td>False</td>\n",
       "    </tr>\n",
       "    <tr>\n",
       "      <th>4</th>\n",
       "      <td>Talat Demir</td>\n",
       "      <td>85</td>\n",
       "      <td>181</td>\n",
       "      <td>49</td>\n",
       "      <td>Erkek</td>\n",
       "      <td>Lisans</td>\n",
       "      <td>False</td>\n",
       "      <td>True</td>\n",
       "    </tr>\n",
       "    <tr>\n",
       "      <th>5</th>\n",
       "      <td>Sibel Ünlü</td>\n",
       "      <td>72</td>\n",
       "      <td>172</td>\n",
       "      <td>34</td>\n",
       "      <td>Kadın</td>\n",
       "      <td>Yüksek Lisans</td>\n",
       "      <td>True</td>\n",
       "      <td>False</td>\n",
       "    </tr>\n",
       "    <tr>\n",
       "      <th>6</th>\n",
       "      <td>Ali Serçe</td>\n",
       "      <td>75</td>\n",
       "      <td>165</td>\n",
       "      <td>21</td>\n",
       "      <td>Erkek</td>\n",
       "      <td>İlkokul</td>\n",
       "      <td>False</td>\n",
       "      <td>True</td>\n",
       "    </tr>\n",
       "  </tbody>\n",
       "</table>\n",
       "</div>"
      ],
      "text/plain": [
       "    Adı Soyadı  Kilo  Boy  Yaş Cinsiyet  Eğitim Durumu  Renk Tercihi_Mavi  \\\n",
       "0  Sacit Bulut    78  172   34    Erkek         Lisans              False   \n",
       "1      Ayşe Er    67  168   45    Kadın         Lisans              False   \n",
       "2    Ahmet San    85  182   32    Erkek        İlkokul              False   \n",
       "3    Macit Şen    98  192   65    Erkek       Ortaokul               True   \n",
       "4  Talat Demir    85  181   49    Erkek         Lisans              False   \n",
       "5   Sibel Ünlü    72  172   34    Kadın  Yüksek Lisans               True   \n",
       "6    Ali Serçe    75  165   21    Erkek        İlkokul              False   \n",
       "\n",
       "   Renk Tercihi_Yeşil  \n",
       "0               False  \n",
       "1                True  \n",
       "2               False  \n",
       "3               False  \n",
       "4                True  \n",
       "5               False  \n",
       "6                True  "
      ]
     },
     "execution_count": 38,
     "metadata": {},
     "output_type": "execute_result"
    }
   ],
   "source": [
    "ohe_df = pd.get_dummies(df, columns=['Renk Tercihi'], drop_first=True)\n",
    "ohe_df"
   ]
  },
  {
   "cell_type": "markdown",
   "metadata": {},
   "source": [
    "Benzer biçimde scikit-learn kütüphanesindeki OneHotEncoder sınıfının drop parametresi first olarak geçilirse \"dummy variable encoding\" işlemi gerçekleştirilir."
   ]
  },
  {
   "cell_type": "code",
   "execution_count": 40,
   "metadata": {},
   "outputs": [
    {
     "name": "stdout",
     "output_type": "stream",
     "text": [
      "    Adı Soyadı  Kilo  Boy  Yaş Cinsiyet Renk Tercihi  Eğitim Durumu\n",
      "0  Sacit Bulut    78  172   34    Erkek      Kırmızı         Lisans\n",
      "1      Ayşe Er    67  168   45    Kadın        Yeşil         Lisans\n",
      "2    Ahmet San    85  182   32    Erkek      Kırmızı        İlkokul\n",
      "3    Macit Şen    98  192   65    Erkek         Mavi       Ortaokul\n",
      "4  Talat Demir    85  181   49    Erkek        Yeşil         Lisans\n",
      "5   Sibel Ünlü    72  172   34    Kadın         Mavi  Yüksek Lisans\n",
      "6    Ali Serçe    75  165   21    Erkek        Yeşil        İlkokul\n",
      "\n",
      "[[0. 0.]\n",
      " [0. 1.]\n",
      " [0. 0.]\n",
      " [1. 0.]\n",
      " [0. 1.]\n",
      " [1. 0.]\n",
      " [0. 1.]]\n"
     ]
    }
   ],
   "source": [
    "print(df, end='\\n\\n')\n",
    "\n",
    "from sklearn.preprocessing import OneHotEncoder\n",
    "\n",
    "ohe = OneHotEncoder(sparse_output=False, drop='first')\n",
    "\n",
    "transformed_data = ohe.fit_transform(df[['Renk Tercihi']])\n",
    "\n",
    "print(transformed_data)\n"
   ]
  },
  {
   "cell_type": "markdown",
   "metadata": {},
   "source": [
    "### Denetimli Sinir Ağlarında Veri Kümeleri"
   ]
  },
  {
   "cell_type": "markdown",
   "metadata": {},
   "source": [
    "Yapay sinir ağlarında çalışma için alçak seviyeli ve yüksek seviyeli kütüphaneler ve framework'ler bulunmaktadır. Aşağı seviyeli üç önemli kütüphane şunlardır: TensorFlow, PyTotch ve Theno. Yüksek seviyeli kütüphane olarak en fazla Keras tercih edilmektedir. Keras eskiden bağımsız bir kütüphaneydi ve kendi içinde TensorFlow, Theno gibi kütüphaneleri \"backend\" olarak kullanabiliyordu.\n",
    "\n",
    "Artık Keras TensorFlow ile birlikte çalışıyor."
   ]
  },
  {
   "cell_type": "code",
   "execution_count": 43,
   "metadata": {},
   "outputs": [],
   "source": [
    "import pandas as pd\n",
    "import numpy as np"
   ]
  },
  {
   "cell_type": "code",
   "execution_count": 42,
   "metadata": {},
   "outputs": [],
   "source": [
    "df = pd.read_csv('datasets/diabetes.csv')"
   ]
  },
  {
   "cell_type": "code",
   "execution_count": 45,
   "metadata": {},
   "outputs": [],
   "source": [
    "dataset = df.to_numpy()\n",
    "np.random.shuffle(dataset)  "
   ]
  },
  {
   "cell_type": "code",
   "execution_count": 46,
   "metadata": {},
   "outputs": [],
   "source": [
    "TRAINING_RATIO = 0.8\n",
    "training_zone = int(np.round(len(dataset)) * TRAINING_RATIO)"
   ]
  },
  {
   "cell_type": "code",
   "execution_count": 48,
   "metadata": {},
   "outputs": [
    {
     "name": "stdout",
     "output_type": "stream",
     "text": [
      "614 154\n"
     ]
    }
   ],
   "source": [
    "training_dataset = dataset[:training_zone, : ]\n",
    "test_dataset = dataset[training_zone:, : ]\n",
    "print(len(training_dataset), len(test_dataset))"
   ]
  },
  {
   "cell_type": "code",
   "execution_count": 52,
   "metadata": {},
   "outputs": [],
   "source": [
    "training_dataset_x = training_dataset[:, : -1]\n",
    "training_dataset_y = training_dataset[:, -1]"
   ]
  },
  {
   "cell_type": "code",
   "execution_count": 59,
   "metadata": {},
   "outputs": [],
   "source": [
    "test_dataset_x = test_dataset[:, : -1]\n",
    "test_dataset_y = test_dataset[:, -1]"
   ]
  },
  {
   "cell_type": "markdown",
   "metadata": {},
   "source": [
    "### Genel Kullanılan Split Yöntemi"
   ]
  },
  {
   "cell_type": "code",
   "execution_count": 55,
   "metadata": {},
   "outputs": [],
   "source": [
    "dataset_x = dataset[:, : -1]\n",
    "dataset_y = dataset[:, -1]"
   ]
  },
  {
   "cell_type": "code",
   "execution_count": 54,
   "metadata": {},
   "outputs": [],
   "source": [
    "from sklearn.model_selection import train_test_split"
   ]
  },
  {
   "cell_type": "code",
   "execution_count": 58,
   "metadata": {},
   "outputs": [],
   "source": [
    "training_dataset_x, test_dataset_x, training_dataset_y, test_dataset_y = train_test_split(dataset_x, dataset_y, test_size=0.2)"
   ]
  },
  {
   "cell_type": "code",
   "execution_count": null,
   "metadata": {},
   "outputs": [],
   "source": []
  }
 ],
 "metadata": {
  "kernelspec": {
   "display_name": "Python 3",
   "language": "python",
   "name": "python3"
  },
  "language_info": {
   "codemirror_mode": {
    "name": "ipython",
    "version": 3
   },
   "file_extension": ".py",
   "mimetype": "text/x-python",
   "name": "python",
   "nbconvert_exporter": "python",
   "pygments_lexer": "ipython3",
   "version": "3.12.4"
  }
 },
 "nbformat": 4,
 "nbformat_minor": 2
}
